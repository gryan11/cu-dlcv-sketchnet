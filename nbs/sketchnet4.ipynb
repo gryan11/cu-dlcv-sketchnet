{
 "cells": [
  {
   "cell_type": "markdown",
   "metadata": {},
   "source": [
    "# sketchnet4\n",
    "Basic idea is to take sketchnet2 first layer, train two conv layers, then next two conv layers, etc"
   ]
  },
  {
   "cell_type": "code",
   "execution_count": 1,
   "metadata": {},
   "outputs": [
    {
     "name": "stderr",
     "output_type": "stream",
     "text": [
      "Using TensorFlow backend.\n"
     ]
    }
   ],
   "source": [
    "import keras\n",
    "from keras.optimizers import rmsprop\n",
    "from keras.preprocessing.image import ImageDataGenerator\n",
    "from keras.models import Sequential, load_model\n",
    "from keras.layers import Convolution2D, MaxPooling2D, ZeroPadding2D\n",
    "from keras.layers import Activation, Dropout, Flatten, Dense\n",
    "from keras.layers import BatchNormalization\n",
    "from keras.callbacks import TensorBoard, ModelCheckpoint\n",
    "from keras import backend\n",
    "from keras import optimizers\n",
    "from keras import backend as K\n",
    "\n",
    "import numpy as np\n",
    "\n",
    "import h5py\n",
    "\n",
    "import tensorflow as tf\n",
    "\n",
    "import utils\n",
    "reload(utils)\n",
    "\n",
    "%matplotlib inline"
   ]
  },
  {
   "cell_type": "code",
   "execution_count": 2,
   "metadata": {},
   "outputs": [
    {
     "name": "stdout",
     "output_type": "stream",
     "text": [
      "Found 2650 images belonging to 50 classes.\n",
      "Found 1350 images belonging to 50 classes.\n",
      "256 256 1 50\n"
     ]
    }
   ],
   "source": [
    "batch_size = 10\n",
    "\n",
    "data_root = '../data/tu-berlin/sample50/'\n",
    "train_data_dir = data_root + 'train'\n",
    "validation_data_dir = data_root + 'test'\n",
    "\n",
    "\n",
    "\n",
    "# this is the augmentation configuration we will use for training\n",
    "train_datagen = ImageDataGenerator(\n",
    "        rescale=1./255,\n",
    "        shear_range=0.25,\n",
    "        zoom_range=0.25,\n",
    "        rotation_range=35,\n",
    "        horizontal_flip=True)\n",
    "\n",
    "# this is the augmentation configuration we will use for testing:\n",
    "# only rescaling\n",
    "test_datagen = ImageDataGenerator(rescale=1./255)\n",
    "\n",
    "train_generator = train_datagen.flow_from_directory(\n",
    "        train_data_dir,\n",
    "        batch_size=batch_size,\n",
    "        class_mode='categorical',\n",
    "        color_mode='grayscale')\n",
    "\n",
    "validation_generator = test_datagen.flow_from_directory(\n",
    "        validation_data_dir,\n",
    "        batch_size=batch_size,\n",
    "        class_mode='categorical',\n",
    "        color_mode='grayscale')\n",
    "\n",
    "batch, y = train_generator.next()\n",
    "img_height = batch.shape[1]\n",
    "img_width = batch.shape[2]\n",
    "channels = batch.shape[3]\n",
    "num_classes = len(y[0])\n",
    "print img_height, img_width, channels, num_classes"
   ]
  },
  {
   "cell_type": "code",
   "execution_count": 3,
   "metadata": {
    "collapsed": true
   },
   "outputs": [],
   "source": [
    "model_name = 'sketchnet4_1'\n",
    "%mkdir -p ../logs/{model_name}\n",
    "%mkdir -p ../models/{model_name}\n",
    "\n",
    "log_cb =\\\n",
    "    TensorBoard(log_dir='../logs/'+model_name+'/', \n",
    "                histogram_freq=0, \n",
    "                write_graph=False, write_images=False)\n",
    "best_model_cb =\\\n",
    "    ModelCheckpoint('../models/'+model_name+'/best.h5', \n",
    "                    monitor='val_acc', verbose=0, \n",
    "                    save_best_only=True, \n",
    "                    mode='auto', period=1)\n",
    "latest_model_cb =\\\n",
    "    ModelCheckpoint('../models/'+model_name+'/latest.h5', \n",
    "                    monitor='val_acc', verbose=0, \n",
    "                    period=1)"
   ]
  },
  {
   "cell_type": "code",
   "execution_count": 4,
   "metadata": {
    "collapsed": true
   },
   "outputs": [],
   "source": [
    "def build_model():\n",
    "    model = Sequential()\n",
    "    model.add(Convolution2D(64, (3, 3), \n",
    "                            padding='same',\n",
    "                            activation='relu',\n",
    "                            input_shape=(img_width, img_height, channels)))\n",
    "    model.add(Convolution2D(64, (3, 3), \n",
    "                            padding='same',\n",
    "                            activation='relu'))\n",
    "    model.add(MaxPooling2D(pool_size=(2, 2)))\n",
    "    \n",
    "    model.add(Convolution2D(128, (3, 3), \n",
    "                            padding='same', \n",
    "                            activation='relu'))\n",
    "    model.add(MaxPooling2D(pool_size=(2, 2)))\n",
    "    model.add(Dropout(0.125))\n",
    "\n",
    "    model.add(Flatten())\n",
    "    model.add(Dense(512, activation='relu'))\n",
    "    model.add(Dropout(0.5))\n",
    "    model.add(Dense(num_classes, activation='softmax'))\n",
    "\n",
    "    # initialize optimizer\n",
    "    opt = rmsprop(lr=0.0001)\n",
    "\n",
    "#     model.compile(loss='categorical_crossentropy',\n",
    "#                   optimizer=opt,\n",
    "#                   metrics=['accuracy'])\n",
    "    \n",
    "    return model, opt\n",
    "\n",
    "model, opt = build_model()"
   ]
  },
  {
   "cell_type": "code",
   "execution_count": 5,
   "metadata": {},
   "outputs": [
    {
     "name": "stdout",
     "output_type": "stream",
     "text": [
      "_________________________________________________________________\n",
      "Layer (type)                 Output Shape              Param #   \n",
      "=================================================================\n",
      "conv2d_1 (Conv2D)            (None, 256, 256, 64)      640       \n",
      "_________________________________________________________________\n",
      "conv2d_2 (Conv2D)            (None, 256, 256, 64)      36928     \n",
      "_________________________________________________________________\n",
      "max_pooling2d_1 (MaxPooling2 (None, 128, 128, 64)      0         \n",
      "_________________________________________________________________\n",
      "conv2d_3 (Conv2D)            (None, 128, 128, 128)     73856     \n",
      "_________________________________________________________________\n",
      "max_pooling2d_2 (MaxPooling2 (None, 64, 64, 128)       0         \n",
      "_________________________________________________________________\n",
      "dropout_1 (Dropout)          (None, 64, 64, 128)       0         \n",
      "_________________________________________________________________\n",
      "flatten_1 (Flatten)          (None, 524288)            0         \n",
      "_________________________________________________________________\n",
      "dense_1 (Dense)              (None, 512)               268435968 \n",
      "_________________________________________________________________\n",
      "dropout_2 (Dropout)          (None, 512)               0         \n",
      "_________________________________________________________________\n",
      "dense_2 (Dense)              (None, 50)                25650     \n",
      "=================================================================\n",
      "Total params: 268,573,042\n",
      "Trainable params: 268,573,042\n",
      "Non-trainable params: 0\n",
      "_________________________________________________________________\n"
     ]
    }
   ],
   "source": [
    "model.compile(loss='categorical_crossentropy',\n",
    "              optimizer=opt,\n",
    "              metrics=['accuracy'])\n",
    "model.summary()"
   ]
  },
  {
   "cell_type": "code",
   "execution_count": 6,
   "metadata": {
    "collapsed": true
   },
   "outputs": [],
   "source": [
    "total_epochs = 0"
   ]
  },
  {
   "cell_type": "code",
   "execution_count": 7,
   "metadata": {},
   "outputs": [
    {
     "name": "stdout",
     "output_type": "stream",
     "text": [
      "Epoch 1/1\n",
      "265/265 [==============================] - 190s - loss: 4.0522 - acc: 0.0234 - val_loss: 3.7717 - val_acc: 0.0652\n"
     ]
    }
   ],
   "source": [
    "nb_epoch = 1\n",
    "K.set_value(opt.lr, 0.0001)\n",
    "\n",
    "hist = model.fit_generator(\n",
    "        train_generator,\n",
    "        steps_per_epoch = 265,\n",
    "        epochs = nb_epoch + total_epochs,\n",
    "        validation_data = validation_generator,\n",
    "        validation_steps = 135,\n",
    "        verbose = 1,\n",
    "        initial_epoch = total_epochs,\n",
    "        callbacks=[log_cb, \n",
    "                   best_model_cb,\n",
    "                   latest_model_cb]\n",
    ")\n",
    "total_epochs += nb_epoch"
   ]
  },
  {
   "cell_type": "code",
   "execution_count": null,
   "metadata": {},
   "outputs": [
    {
     "name": "stdout",
     "output_type": "stream",
     "text": [
      "Epoch 2/6\n",
      "265/265 [==============================] - 187s - loss: 4.0205 - acc: 0.0200 - val_loss: 3.8907 - val_acc: 0.0422\n",
      "Epoch 3/6\n",
      "265/265 [==============================] - 205s - loss: 3.7893 - acc: 0.0566 - val_loss: 3.2446 - val_acc: 0.1659\n",
      "Epoch 4/6\n",
      "240/265 [==========================>...] - ETA: 14s - loss: 3.3692 - acc: 0.1450"
     ]
    }
   ],
   "source": [
    "nb_epoch = 5\n",
    "K.set_value(opt.lr, 0.001)\n",
    "\n",
    "hist = model.fit_generator(\n",
    "        train_generator,\n",
    "        steps_per_epoch = 265,\n",
    "        epochs = nb_epoch + total_epochs,\n",
    "        validation_data = validation_generator,\n",
    "        validation_steps = 135,\n",
    "        verbose = 1,\n",
    "        initial_epoch = total_epochs,\n",
    "        callbacks=[log_cb, \n",
    "                   best_model_cb,\n",
    "                   latest_model_cb]\n",
    ")\n",
    "total_epochs += nb_epoch"
   ]
  },
  {
   "cell_type": "code",
   "execution_count": null,
   "metadata": {
    "collapsed": true
   },
   "outputs": [],
   "source": [
    "nb_epoch = 20\n",
    "K.set_value(opt.lr, 0.001)\n",
    "\n",
    "hist = model.fit_generator(\n",
    "        train_generator,\n",
    "        steps_per_epoch = 265,\n",
    "        epochs = nb_epoch + total_epochs,\n",
    "        validation_data = validation_generator,\n",
    "        validation_steps = 135,\n",
    "        verbose = 1,\n",
    "        initial_epoch = total_epochs,\n",
    "        callbacks=[log_cb, \n",
    "                   best_model_cb,\n",
    "                   latest_model_cb]\n",
    ")\n",
    "total_epochs += nb_epoch"
   ]
  },
  {
   "cell_type": "code",
   "execution_count": null,
   "metadata": {},
   "outputs": [
    {
     "name": "stdout",
     "output_type": "stream",
     "text": [
      "train ['loss', 'acc'] [2.264826936092017, 0.40490566837900088]\n",
      "val ['loss', 'acc'] [2.3791824526256984, 0.44074074990219542]\n"
     ]
    }
   ],
   "source": [
    "metrics = model.evaluate_generator(train_generator, steps=265)\n",
    "print 'train', model.metrics_names, metrics\n",
    "metrics = model.evaluate_generator(validation_generator, steps=135)\n",
    "print 'val', model.metrics_names, metrics"
   ]
  },
  {
   "cell_type": "code",
   "execution_count": 5,
   "metadata": {
    "collapsed": true
   },
   "outputs": [
    {
     "name": "stdout",
     "output_type": "stream",
     "text": [
      "_________________________________________________________________\n",
      "Layer (type)                 Output Shape              Param #   \n",
      "=================================================================\n",
      "conv2d_4 (Conv2D)            (None, 256, 256, 64)      640       \n",
      "_________________________________________________________________\n",
      "conv2d_5 (Conv2D)            (None, 256, 256, 64)      36928     \n",
      "_________________________________________________________________\n",
      "max_pooling2d_3 (MaxPooling2 (None, 128, 128, 64)      0         \n",
      "_________________________________________________________________\n",
      "conv2d_6 (Conv2D)            (None, 128, 128, 128)     73856     \n",
      "_________________________________________________________________\n",
      "conv2d_7 (Conv2D)            (None, 128, 128, 128)     147584    \n",
      "_________________________________________________________________\n",
      "max_pooling2d_5 (MaxPooling2 (None, 64, 64, 128)       0         \n",
      "_________________________________________________________________\n",
      "conv2d_8 (Conv2D)            (None, 64, 64, 256)       295168    \n",
      "_________________________________________________________________\n",
      "max_pooling2d_6 (MaxPooling2 (None, 32, 32, 256)       0         \n",
      "_________________________________________________________________\n",
      "flatten_3 (Flatten)          (None, 262144)            0         \n",
      "_________________________________________________________________\n",
      "dense_5 (Dense)              (None, 512)               134218240 \n",
      "_________________________________________________________________\n",
      "dropout_5 (Dropout)          (None, 512)               0         \n",
      "_________________________________________________________________\n",
      "dense_6 (Dense)              (None, 50)                25650     \n",
      "=================================================================\n",
      "Total params: 134,798,066\n",
      "Trainable params: 134,798,066\n",
      "Non-trainable params: 0\n",
      "_________________________________________________________________\n"
     ]
    }
   ],
   "source": [
    "# now pop the dense layer, add 2 conv layers + dense\n",
    "# freeze bottom + tune,\n",
    "# then train all\n",
    "\n",
    "model, opt = build_model()\n",
    "model.load_weights('../models/sketchnet4_1/latest.h5')\n",
    "\n",
    "# pop 6 layers\n",
    "for i in xrange(6):\n",
    "    model.pop()\n",
    "    \n",
    "model.add(Convolution2D(128, (3, 3), \n",
    "                        padding='same', \n",
    "                        activation='relu'))\n",
    "model.add(MaxPooling2D(pool_size=(2, 2)))\n",
    "\n",
    "model.add(Convolution2D(256, (3, 3), \n",
    "                        padding='same', \n",
    "                        activation='relu'))\n",
    "model.add(MaxPooling2D(pool_size=(2, 2)))\n",
    "\n",
    "model.add(Flatten())\n",
    "model.add(Dense(512, activation='relu'))\n",
    "model.add(Dropout(0.25))\n",
    "model.add(Dense(num_classes, activation='softmax'))"
   ]
  },
  {
   "cell_type": "code",
   "execution_count": 16,
   "metadata": {},
   "outputs": [
    {
     "name": "stdout",
     "output_type": "stream",
     "text": [
      "_________________________________________________________________\n",
      "Layer (type)                 Output Shape              Param #   \n",
      "=================================================================\n",
      "conv2d_4 (Conv2D)            (None, 256, 256, 64)      640       \n",
      "_________________________________________________________________\n",
      "conv2d_5 (Conv2D)            (None, 256, 256, 64)      36928     \n",
      "_________________________________________________________________\n",
      "max_pooling2d_3 (MaxPooling2 (None, 128, 128, 64)      0         \n",
      "_________________________________________________________________\n",
      "conv2d_6 (Conv2D)            (None, 128, 128, 128)     73856     \n",
      "_________________________________________________________________\n",
      "conv2d_7 (Conv2D)            (None, 128, 128, 128)     147584    \n",
      "_________________________________________________________________\n",
      "max_pooling2d_5 (MaxPooling2 (None, 64, 64, 128)       0         \n",
      "_________________________________________________________________\n",
      "conv2d_8 (Conv2D)            (None, 64, 64, 256)       295168    \n",
      "_________________________________________________________________\n",
      "max_pooling2d_6 (MaxPooling2 (None, 32, 32, 256)       0         \n",
      "_________________________________________________________________\n",
      "flatten_3 (Flatten)          (None, 262144)            0         \n",
      "_________________________________________________________________\n",
      "dense_5 (Dense)              (None, 512)               134218240 \n",
      "_________________________________________________________________\n",
      "dropout_5 (Dropout)          (None, 512)               0         \n",
      "_________________________________________________________________\n",
      "dense_6 (Dense)              (None, 50)                25650     \n",
      "=================================================================\n",
      "Total params: 134,798,066\n",
      "Trainable params: 134,686,642\n",
      "Non-trainable params: 111,424\n",
      "_________________________________________________________________\n"
     ]
    }
   ],
   "source": [
    "model.compile(loss='categorical_crossentropy',\n",
    "              optimizer=opt,\n",
    "              metrics=['accuracy'])\n",
    "model.summary()"
   ]
  },
  {
   "cell_type": "code",
   "execution_count": 17,
   "metadata": {
    "collapsed": true
   },
   "outputs": [],
   "source": [
    "model_name = 'sketchnet4_2'\n",
    "%mkdir -p ../logs/{model_name}\n",
    "%mkdir -p ../models/{model_name}\n",
    "\n",
    "log_cb2 =\\\n",
    "    TensorBoard(log_dir='../logs/'+model_name+'/', \n",
    "                histogram_freq=0, \n",
    "                write_graph=False, write_images=False)\n",
    "best_model_cb2 =\\\n",
    "    ModelCheckpoint('../models/'+model_name+'/best.h5', \n",
    "                    monitor='val_acc', verbose=0, \n",
    "                    save_best_only=True, \n",
    "                    mode='auto', period=1)\n",
    "latest_model_cb2 =\\\n",
    "    ModelCheckpoint('../models/'+model_name+'/latest.h5', \n",
    "                    monitor='val_acc', verbose=0, \n",
    "                    period=1)"
   ]
  },
  {
   "cell_type": "code",
   "execution_count": 18,
   "metadata": {
    "collapsed": true
   },
   "outputs": [],
   "source": [
    "total_epochs = 0"
   ]
  },
  {
   "cell_type": "code",
   "execution_count": 19,
   "metadata": {},
   "outputs": [
    {
     "name": "stdout",
     "output_type": "stream",
     "text": [
      "Epoch 1/1\n",
      "265/265 [==============================] - 116s - loss: 3.8213 - acc: 0.0532 - val_loss: 3.4789 - val_acc: 0.1400\n"
     ]
    }
   ],
   "source": [
    "# first tune:\n",
    "for layer in model.layers[:4]:\n",
    "    layer.trainable = False\n",
    "\n",
    "nb_epoch = 1\n",
    "K.set_value(opt.lr, 0.0001)\n",
    "\n",
    "hist = model.fit_generator(\n",
    "        train_generator,\n",
    "        steps_per_epoch = 265,\n",
    "        epochs = nb_epoch + total_epochs,\n",
    "        validation_data = validation_generator,\n",
    "        validation_steps = 135,\n",
    "        verbose = 1,\n",
    "        initial_epoch = total_epochs,\n",
    "        callbacks=[log_cb2, \n",
    "                   best_model_cb2,\n",
    "                   latest_model_cb2]\n",
    ")\n",
    "total_epochs += nb_epoch"
   ]
  },
  {
   "cell_type": "code",
   "execution_count": null,
   "metadata": {},
   "outputs": [
    {
     "name": "stdout",
     "output_type": "stream",
     "text": [
      "Epoch 2/6\n",
      "265/265 [==============================] - 130s - loss: 3.5782 - acc: 0.1075 - val_loss: 3.0185 - val_acc: 0.2415\n",
      "Epoch 3/6\n",
      "265/265 [==============================] - 130s - loss: 2.9958 - acc: 0.2177 - val_loss: 2.6279 - val_acc: 0.3193\n",
      "Epoch 4/6\n",
      "265/265 [==============================] - 121s - loss: 2.7282 - acc: 0.2796 - val_loss: 2.5986 - val_acc: 0.3163\n",
      "Epoch 5/6\n",
      "265/265 [==============================] - 130s - loss: 2.6335 - acc: 0.2974 - val_loss: 2.4777 - val_acc: 0.3941\n",
      "Epoch 6/6\n",
      "265/265 [==============================] - 120s - loss: 2.5480 - acc: 0.3147 - val_loss: 2.4126 - val_acc: 0.3904\n"
     ]
    }
   ],
   "source": [
    "nb_epoch = 5\n",
    "K.set_value(opt.lr, 0.001)\n",
    "\n",
    "hist = model.fit_generator(\n",
    "        train_generator,\n",
    "        steps_per_epoch = 265,\n",
    "        epochs = nb_epoch + total_epochs,\n",
    "        validation_data = validation_generator,\n",
    "        validation_steps = 135,\n",
    "        verbose = 1,\n",
    "        initial_epoch = total_epochs,\n",
    "        callbacks=[log_cb2, \n",
    "                   best_model_cb2,\n",
    "                   latest_model_cb2]\n",
    ")\n",
    "total_epochs += nb_epoch"
   ]
  },
  {
   "cell_type": "code",
   "execution_count": null,
   "metadata": {},
   "outputs": [
    {
     "name": "stdout",
     "output_type": "stream",
     "text": [
      "Epoch 7/16\n",
      "265/265 [==============================] - 120s - loss: 2.1737 - acc: 0.4079 - val_loss: 2.3278 - val_acc: 0.4400\n",
      "Epoch 12/16\n",
      "265/265 [==============================] - 130s - loss: 2.1823 - acc: 0.4068 - val_loss: 2.3298 - val_acc: 0.4593\n",
      "Epoch 13/16\n",
      "265/265 [==============================] - 130s - loss: 2.1354 - acc: 0.4181 - val_loss: 2.2819 - val_acc: 0.4726\n",
      "Epoch 14/16\n",
      "265/265 [==============================] - 130s - loss: 2.1083 - acc: 0.4226 - val_loss: 2.1014 - val_acc: 0.4926\n",
      "Epoch 15/16\n",
      "265/265 [==============================] - 120s - loss: 2.0776 - acc: 0.4430 - val_loss: 2.3214 - val_acc: 0.4763\n",
      "Epoch 16/16\n",
      "265/265 [==============================] - 120s - loss: 2.0707 - acc: 0.4468 - val_loss: 2.2521 - val_acc: 0.4570\n"
     ]
    }
   ],
   "source": [
    "nb_epoch = 10\n",
    "K.set_value(opt.lr, 0.0005)\n",
    "\n",
    "hist = model.fit_generator(\n",
    "        train_generator,\n",
    "        steps_per_epoch = 265,\n",
    "        epochs = nb_epoch + total_epochs,\n",
    "        validation_data = validation_generator,\n",
    "        validation_steps = 135,\n",
    "        verbose = 1,\n",
    "        initial_epoch = total_epochs,\n",
    "        callbacks=[log_cb2, \n",
    "                   best_model_cb2,\n",
    "                   latest_model_cb2]\n",
    ")\n",
    "total_epochs += nb_epoch"
   ]
  },
  {
   "cell_type": "code",
   "execution_count": null,
   "metadata": {
    "collapsed": true
   },
   "outputs": [],
   "source": [
    "# unfreeze network and train more\n",
    "for layer in model.layers:\n",
    "    layer.trainable = True\n",
    "    \n",
    "nb_epoch = 10\n",
    "K.set_value(opt.lr, 0.0005)\n",
    "\n",
    "hist = model.fit_generator(\n",
    "        train_generator,\n",
    "        steps_per_epoch = 265,\n",
    "        epochs = nb_epoch + total_epochs,\n",
    "        validation_data = validation_generator,\n",
    "        validation_steps = 135,\n",
    "        verbose = 1,\n",
    "        initial_epoch = total_epochs,\n",
    "        callbacks=[log_cb2, \n",
    "                   best_model_cb2,\n",
    "                   latest_model_cb2]\n",
    ")\n",
    "total_epochs += nb_epoch"
   ]
  },
  {
   "cell_type": "code",
   "execution_count": 22,
   "metadata": {},
   "outputs": [
    {
     "name": "stdout",
     "output_type": "stream",
     "text": [
      "val ['loss', 'acc'] [2.188649030526479, 0.48518519760281953]\n"
     ]
    }
   ],
   "source": [
    "metrics = model.evaluate_generator(validation_generator, steps=135)\n",
    "print 'val', model.metrics_names, metrics"
   ]
  },
  {
   "cell_type": "code",
   "execution_count": null,
   "metadata": {
    "collapsed": true
   },
   "outputs": [],
   "source": [
    "nb_epoch = 10\n",
    "K.set_value(opt.lr, 0.00025)\n",
    "\n",
    "hist = model.fit_generator(\n",
    "        train_generator,\n",
    "        steps_per_epoch = 265,\n",
    "        epochs = nb_epoch + total_epochs,\n",
    "        validation_data = validation_generator,\n",
    "        validation_steps = 135,\n",
    "        verbose = 1,\n",
    "        initial_epoch = total_epochs,\n",
    "        callbacks=[log_cb2, \n",
    "                   best_model_cb2,\n",
    "                   latest_model_cb2]\n",
    ")\n",
    "total_epochs += nb_epoch"
   ]
  },
  {
   "cell_type": "code",
   "execution_count": 24,
   "metadata": {},
   "outputs": [
    {
     "name": "stdout",
     "output_type": "stream",
     "text": [
      "val ['loss', 'acc'] [2.0498745988916469, 0.50296297437614867]\n"
     ]
    }
   ],
   "source": [
    "metrics = model.evaluate_generator(validation_generator, steps=135)\n",
    "print 'val', model.metrics_names, metrics"
   ]
  },
  {
   "cell_type": "code",
   "execution_count": 3,
   "metadata": {
    "collapsed": true
   },
   "outputs": [],
   "source": [
    "# load latest, add more convs\n",
    "\n",
    "model = keras.models.load_model('../models/sketchnet4_2/latest.h5')\n",
    "for i in xrange(5):\n",
    "    model.pop()\n",
    "    \n",
    "model.add(Convolution2D(256, (3, 3), \n",
    "                        padding='same', \n",
    "                        activation='relu'))\n",
    "model.add(MaxPooling2D(pool_size=(2, 2)))\n",
    "\n",
    "model.add(Convolution2D(512, (3, 3), \n",
    "                        padding='same', \n",
    "                        activation='relu'))\n",
    "model.add(MaxPooling2D(pool_size=(2, 2)))\n",
    "\n",
    "model.add(Flatten())\n",
    "model.add(Dense(512, activation='relu'))\n",
    "model.add(Dropout(0.25))\n",
    "model.add(Dense(num_classes, activation='softmax'))"
   ]
  },
  {
   "cell_type": "code",
   "execution_count": 6,
   "metadata": {},
   "outputs": [
    {
     "name": "stdout",
     "output_type": "stream",
     "text": [
      "_________________________________________________________________\n",
      "Layer (type)                 Output Shape              Param #   \n",
      "=================================================================\n",
      "conv2d_4 (Conv2D)            (None, 256, 256, 64)      640       \n",
      "_________________________________________________________________\n",
      "conv2d_5 (Conv2D)            (None, 256, 256, 64)      36928     \n",
      "_________________________________________________________________\n",
      "max_pooling2d_3 (MaxPooling2 (None, 128, 128, 64)      0         \n",
      "_________________________________________________________________\n",
      "conv2d_6 (Conv2D)            (None, 128, 128, 128)     73856     \n",
      "_________________________________________________________________\n",
      "conv2d_7 (Conv2D)            (None, 128, 128, 128)     147584    \n",
      "_________________________________________________________________\n",
      "max_pooling2d_5 (MaxPooling2 (None, 64, 64, 128)       0         \n",
      "_________________________________________________________________\n",
      "conv2d_8 (Conv2D)            (None, 64, 64, 256)       295168    \n",
      "_________________________________________________________________\n",
      "conv2d_1 (Conv2D)            (None, 64, 64, 256)       590080    \n",
      "_________________________________________________________________\n",
      "max_pooling2d_1 (MaxPooling2 (None, 32, 32, 256)       0         \n",
      "_________________________________________________________________\n",
      "conv2d_2 (Conv2D)            (None, 32, 32, 512)       1180160   \n",
      "_________________________________________________________________\n",
      "max_pooling2d_2 (MaxPooling2 (None, 16, 16, 512)       0         \n",
      "_________________________________________________________________\n",
      "flatten_1 (Flatten)          (None, 131072)            0         \n",
      "_________________________________________________________________\n",
      "dense_1 (Dense)              (None, 512)               67109376  \n",
      "_________________________________________________________________\n",
      "dropout_1 (Dropout)          (None, 512)               0         \n",
      "_________________________________________________________________\n",
      "dense_2 (Dense)              (None, 50)                25650     \n",
      "=================================================================\n",
      "Total params: 69,459,442\n",
      "Trainable params: 69,348,018\n",
      "Non-trainable params: 111,424\n",
      "_________________________________________________________________\n"
     ]
    }
   ],
   "source": [
    "opt = rmsprop(lr=0.001)\n",
    "model.compile(loss='categorical_crossentropy',\n",
    "              optimizer=opt,\n",
    "              metrics=['accuracy'])\n",
    "model.summary()"
   ]
  },
  {
   "cell_type": "code",
   "execution_count": 12,
   "metadata": {
    "collapsed": true
   },
   "outputs": [],
   "source": [
    "model_name = 'sketchnet4_3'\n",
    "%mkdir -p ../logs/{model_name}\n",
    "%mkdir -p ../models/{model_name}\n",
    "\n",
    "log_cb3 =\\\n",
    "    TensorBoard(log_dir='../logs/'+model_name+'/', \n",
    "                histogram_freq=0, \n",
    "                write_graph=False, write_images=False)\n",
    "best_model_cb3 =\\\n",
    "    ModelCheckpoint('../models/'+model_name+'/best.h5', \n",
    "                    monitor='val_acc', verbose=0, \n",
    "                    save_best_only=True, \n",
    "                    mode='auto', period=1)\n",
    "latest_model_cb3 =\\\n",
    "    ModelCheckpoint('../models/'+model_name+'/latest.h5', \n",
    "                    monitor='val_acc', verbose=0, \n",
    "                    period=1)    \n",
    "lr_cb3 = \\\n",
    "    keras.callbacks.ReduceLROnPlateau(monitor='val_loss', factor=0.5,\n",
    "                  patience=3, min_lr=0.0001)\n",
    "def sched_lr(e):\n",
    "    if e == 0:\n",
    "        return 0.0001\n",
    "    elif e < 10:\n",
    "        return 0.001\n",
    "    elif e < 20:\n",
    "        return 0.0005\n",
    "    elif e < 30:\n",
    "        return 0.00025\n",
    "    else:\n",
    "        return 0.0001\n",
    "lr_sched_cb3 =\\\n",
    "    keras.callbacks.LearningRateScheduler(sched_lr)\n"
   ]
  },
  {
   "cell_type": "code",
   "execution_count": 13,
   "metadata": {
    "collapsed": true
   },
   "outputs": [],
   "source": [
    "total_epochs = 0"
   ]
  },
  {
   "cell_type": "code",
   "execution_count": null,
   "metadata": {
    "collapsed": true
   },
   "outputs": [
    {
     "name": "stdout",
     "output_type": "stream",
     "text": [
      "Epoch 1/25\n",
      "265/265 [==============================] - 142s - loss: 2.7601 - acc: 0.2698 - val_loss: 2.3304 - val_acc: 0.3859\n",
      "Epoch 2/25\n",
      "265/265 [==============================] - 136s - loss: 3.2881 - acc: 0.1709 - val_loss: 2.4875 - val_acc: 0.3459\n",
      "Epoch 3/25\n",
      "265/265 [==============================] - 135s - loss: 2.7868 - acc: 0.2732 - val_loss: 2.3856 - val_acc: 0.3622\n",
      "Epoch 4/25\n",
      "265/265 [==============================] - 140s - loss: 2.4907 - acc: 0.3275 - val_loss: 2.1628 - val_acc: 0.4437\n",
      "Epoch 5/25\n",
      "265/265 [==============================] - 140s - loss: 2.3500 - acc: 0.3694 - val_loss: 1.8520 - val_acc: 0.4941\n",
      "Epoch 6/25\n",
      "265/265 [==============================] - 135s - loss: 2.2110 - acc: 0.4038 - val_loss: 2.0812 - val_acc: 0.4933\n",
      "Epoch 7/25\n",
      "265/265 [==============================] - 140s - loss: 2.1870 - acc: 0.4400 - val_loss: 1.9226 - val_acc: 0.5067\n",
      "Epoch 8/25\n",
      "265/265 [==============================] - 140s - loss: 2.0035 - acc: 0.4743 - val_loss: 1.9301 - val_acc: 0.5267\n",
      "Epoch 9/25\n",
      "265/265 [==============================] - 140s - loss: 1.9009 - acc: 0.4804 - val_loss: 1.8683 - val_acc: 0.5356\n",
      "Epoch 10/25\n",
      "265/265 [==============================] - 140s - loss: 1.8535 - acc: 0.4951 - val_loss: 1.8072 - val_acc: 0.5467\n",
      "Epoch 11/25\n",
      "265/265 [==============================] - 140s - loss: 1.6016 - acc: 0.5604 - val_loss: 1.8670 - val_acc: 0.5756\n",
      "Epoch 12/25\n",
      "265/265 [==============================] - 140s - loss: 1.5763 - acc: 0.5834 - val_loss: 1.8590 - val_acc: 0.5837\n",
      "Epoch 13/25\n",
      "265/265 [==============================] - 140s - loss: 1.5181 - acc: 0.5996 - val_loss: 1.6993 - val_acc: 0.5956\n",
      "Epoch 14/25\n",
      "265/265 [==============================] - 140s - loss: 1.4996 - acc: 0.5925 - val_loss: 1.6791 - val_acc: 0.6163\n",
      "Epoch 15/25\n",
      "265/265 [==============================] - 135s - loss: 1.4280 - acc: 0.6151 - val_loss: 1.9142 - val_acc: 0.6074\n",
      "Epoch 16/25\n",
      "265/265 [==============================] - 135s - loss: 1.4163 - acc: 0.6215 - val_loss: 2.0454 - val_acc: 0.6148\n",
      "Epoch 17/25\n",
      "265/265 [==============================] - 135s - loss: 1.3944 - acc: 0.6257 - val_loss: 1.8700 - val_acc: 0.5822\n",
      "Epoch 18/25\n",
      "265/265 [==============================] - 135s - loss: 1.1827 - acc: 0.6774 - val_loss: 1.7234 - val_acc: 0.6504\n",
      "Epoch 25/25\n",
      "265/265 [==============================] - 140s - loss: 1.1738 - acc: 0.6838 - val_loss: 1.6254 - val_acc: 0.6711\n"
     ]
    }
   ],
   "source": [
    "nb_epoch = 25\n",
    "\n",
    "for layer in model.layers[:7]:\n",
    "    layer.trainable = False\n",
    "\n",
    "hist = model.fit_generator(\n",
    "        train_generator,\n",
    "        steps_per_epoch = 265,\n",
    "        epochs = nb_epoch + total_epochs,\n",
    "        validation_data = validation_generator,\n",
    "        validation_steps = 135,\n",
    "        verbose = 1,\n",
    "        initial_epoch = total_epochs,\n",
    "        callbacks=[log_cb3, \n",
    "                   best_model_cb3,\n",
    "                   latest_model_cb3,\n",
    "                   lr_sched_cb3]\n",
    ")\n",
    "total_epochs += nb_epoch"
   ]
  },
  {
   "cell_type": "code",
   "execution_count": null,
   "metadata": {
    "collapsed": true
   },
   "outputs": [
    {
     "name": "stdout",
     "output_type": "stream",
     "text": [
      "Epoch 26/50\n",
      "265/265 [==============================] - 135s - loss: 1.1174 - acc: 0.6943 - val_loss: 1.5360 - val_acc: 0.6667\n",
      "Epoch 27/50\n",
      "265/265 [==============================] - 135s - loss: 1.1666 - acc: 0.6928 - val_loss: 1.6084 - val_acc: 0.6674\n",
      "Epoch 28/50\n",
      "265/265 [==============================] - 135s - loss: 1.1378 - acc: 0.6977 - val_loss: 1.5815 - val_acc: 0.6526\n",
      "Epoch 29/50\n",
      "265/265 [==============================] - 135s - loss: 1.1495 - acc: 0.6906 - val_loss: 1.4542 - val_acc: 0.6637\n",
      "Epoch 30/50\n",
      "265/265 [==============================] - 135s - loss: 1.1364 - acc: 0.6951 - val_loss: 1.5805 - val_acc: 0.6644\n",
      "Epoch 31/50\n",
      "265/265 [==============================] - 135s - loss: 1.0330 - acc: 0.7192 - val_loss: 1.6188 - val_acc: 0.6644\n",
      "Epoch 32/50\n",
      "265/265 [==============================] - 135s - loss: 1.0140 - acc: 0.7272 - val_loss: 1.7414 - val_acc: 0.6496\n",
      "Epoch 33/50\n",
      "265/265 [==============================] - 140s - loss: 1.0109 - acc: 0.7230 - val_loss: 1.5828 - val_acc: 0.6844\n",
      "Epoch 34/50\n",
      "265/265 [==============================] - 135s - loss: 0.9891 - acc: 0.7340 - val_loss: 1.6023 - val_acc: 0.6763\n",
      "Epoch 35/50\n",
      "265/265 [==============================] - 135s - loss: 0.9914 - acc: 0.7362 - val_loss: 1.7591 - val_acc: 0.6622\n",
      "Epoch 36/50\n",
      "265/265 [==============================] - 135s - loss: 0.9621 - acc: 0.7362 - val_loss: 1.5637 - val_acc: 0.6807\n",
      "Epoch 37/50\n",
      "265/265 [==============================] - 135s - loss: 0.9933 - acc: 0.7313 - val_loss: 1.7365 - val_acc: 0.6733\n",
      "Epoch 38/50\n",
      "265/265 [==============================] - 135s - loss: 0.9629 - acc: 0.7313 - val_loss: 1.6625 - val_acc: 0.6770\n",
      "Epoch 39/50\n",
      "265/265 [==============================] - 135s - loss: 0.9683 - acc: 0.7351 - val_loss: 1.6687 - val_acc: 0.6681\n",
      "Epoch 40/50\n",
      "265/265 [==============================] - 135s - loss: 0.9857 - acc: 0.7309 - val_loss: 1.8123 - val_acc: 0.6637\n",
      "Epoch 41/50\n",
      "265/265 [==============================] - 135s - loss: 0.9854 - acc: 0.7370 - val_loss: 1.9614 - val_acc: 0.6696\n",
      "Epoch 42/50\n",
      " 88/265 [========>.....................] - ETA: 71s - loss: 0.9653 - acc: 0.7352"
     ]
    },
    {
     "ename": "KeyboardInterrupt",
     "evalue": "",
     "output_type": "error",
     "traceback": [
      "\u001b[0;31m---------------------------------------------------------------------------\u001b[0m",
      "\u001b[0;31mKeyboardInterrupt\u001b[0m                         Traceback (most recent call last)",
      "\u001b[0;32m<ipython-input-15-bf9400444460>\u001b[0m in \u001b[0;36m<module>\u001b[0;34m()\u001b[0m\n\u001b[1;32m     15\u001b[0m                    \u001b[0mbest_model_cb3\u001b[0m\u001b[0;34m,\u001b[0m\u001b[0;34m\u001b[0m\u001b[0m\n\u001b[1;32m     16\u001b[0m                    \u001b[0mlatest_model_cb3\u001b[0m\u001b[0;34m,\u001b[0m\u001b[0;34m\u001b[0m\u001b[0m\n\u001b[0;32m---> 17\u001b[0;31m                    lr_sched_cb3]\n\u001b[0m\u001b[1;32m     18\u001b[0m )\n\u001b[1;32m     19\u001b[0m \u001b[0mtotal_epochs\u001b[0m \u001b[0;34m+=\u001b[0m \u001b[0mnb_epoch\u001b[0m\u001b[0;34m\u001b[0m\u001b[0m\n",
      "\u001b[0;32m/usr/local/lib/python2.7/dist-packages/keras/legacy/interfaces.pyc\u001b[0m in \u001b[0;36mwrapper\u001b[0;34m(*args, **kwargs)\u001b[0m\n\u001b[1;32m     86\u001b[0m                 warnings.warn('Update your `' + object_name +\n\u001b[1;32m     87\u001b[0m                               '` call to the Keras 2 API: ' + signature, stacklevel=2)\n\u001b[0;32m---> 88\u001b[0;31m             \u001b[0;32mreturn\u001b[0m \u001b[0mfunc\u001b[0m\u001b[0;34m(\u001b[0m\u001b[0;34m*\u001b[0m\u001b[0margs\u001b[0m\u001b[0;34m,\u001b[0m \u001b[0;34m**\u001b[0m\u001b[0mkwargs\u001b[0m\u001b[0;34m)\u001b[0m\u001b[0;34m\u001b[0m\u001b[0m\n\u001b[0m\u001b[1;32m     89\u001b[0m         \u001b[0mwrapper\u001b[0m\u001b[0;34m.\u001b[0m\u001b[0m_legacy_support_signature\u001b[0m \u001b[0;34m=\u001b[0m \u001b[0minspect\u001b[0m\u001b[0;34m.\u001b[0m\u001b[0mgetargspec\u001b[0m\u001b[0;34m(\u001b[0m\u001b[0mfunc\u001b[0m\u001b[0;34m)\u001b[0m\u001b[0;34m\u001b[0m\u001b[0m\n\u001b[1;32m     90\u001b[0m         \u001b[0;32mreturn\u001b[0m \u001b[0mwrapper\u001b[0m\u001b[0;34m\u001b[0m\u001b[0m\n",
      "\u001b[0;32m/usr/local/lib/python2.7/dist-packages/keras/models.pyc\u001b[0m in \u001b[0;36mfit_generator\u001b[0;34m(self, generator, steps_per_epoch, epochs, verbose, callbacks, validation_data, validation_steps, class_weight, max_q_size, workers, pickle_safe, initial_epoch)\u001b[0m\n\u001b[1;32m   1105\u001b[0m                                         \u001b[0mworkers\u001b[0m\u001b[0;34m=\u001b[0m\u001b[0mworkers\u001b[0m\u001b[0;34m,\u001b[0m\u001b[0;34m\u001b[0m\u001b[0m\n\u001b[1;32m   1106\u001b[0m                                         \u001b[0mpickle_safe\u001b[0m\u001b[0;34m=\u001b[0m\u001b[0mpickle_safe\u001b[0m\u001b[0;34m,\u001b[0m\u001b[0;34m\u001b[0m\u001b[0m\n\u001b[0;32m-> 1107\u001b[0;31m                                         initial_epoch=initial_epoch)\n\u001b[0m\u001b[1;32m   1108\u001b[0m \u001b[0;34m\u001b[0m\u001b[0m\n\u001b[1;32m   1109\u001b[0m     \u001b[0;34m@\u001b[0m\u001b[0minterfaces\u001b[0m\u001b[0;34m.\u001b[0m\u001b[0mlegacy_generator_methods_support\u001b[0m\u001b[0;34m\u001b[0m\u001b[0m\n",
      "\u001b[0;32m/usr/local/lib/python2.7/dist-packages/keras/legacy/interfaces.pyc\u001b[0m in \u001b[0;36mwrapper\u001b[0;34m(*args, **kwargs)\u001b[0m\n\u001b[1;32m     86\u001b[0m                 warnings.warn('Update your `' + object_name +\n\u001b[1;32m     87\u001b[0m                               '` call to the Keras 2 API: ' + signature, stacklevel=2)\n\u001b[0;32m---> 88\u001b[0;31m             \u001b[0;32mreturn\u001b[0m \u001b[0mfunc\u001b[0m\u001b[0;34m(\u001b[0m\u001b[0;34m*\u001b[0m\u001b[0margs\u001b[0m\u001b[0;34m,\u001b[0m \u001b[0;34m**\u001b[0m\u001b[0mkwargs\u001b[0m\u001b[0;34m)\u001b[0m\u001b[0;34m\u001b[0m\u001b[0m\n\u001b[0m\u001b[1;32m     89\u001b[0m         \u001b[0mwrapper\u001b[0m\u001b[0;34m.\u001b[0m\u001b[0m_legacy_support_signature\u001b[0m \u001b[0;34m=\u001b[0m \u001b[0minspect\u001b[0m\u001b[0;34m.\u001b[0m\u001b[0mgetargspec\u001b[0m\u001b[0;34m(\u001b[0m\u001b[0mfunc\u001b[0m\u001b[0;34m)\u001b[0m\u001b[0;34m\u001b[0m\u001b[0m\n\u001b[1;32m     90\u001b[0m         \u001b[0;32mreturn\u001b[0m \u001b[0mwrapper\u001b[0m\u001b[0;34m\u001b[0m\u001b[0m\n",
      "\u001b[0;32m/usr/local/lib/python2.7/dist-packages/keras/engine/training.pyc\u001b[0m in \u001b[0;36mfit_generator\u001b[0;34m(self, generator, steps_per_epoch, epochs, verbose, callbacks, validation_data, validation_steps, class_weight, max_q_size, workers, pickle_safe, initial_epoch)\u001b[0m\n\u001b[1;32m   1875\u001b[0m                     outs = self.train_on_batch(x, y,\n\u001b[1;32m   1876\u001b[0m                                                \u001b[0msample_weight\u001b[0m\u001b[0;34m=\u001b[0m\u001b[0msample_weight\u001b[0m\u001b[0;34m,\u001b[0m\u001b[0;34m\u001b[0m\u001b[0m\n\u001b[0;32m-> 1877\u001b[0;31m                                                class_weight=class_weight)\n\u001b[0m\u001b[1;32m   1878\u001b[0m \u001b[0;34m\u001b[0m\u001b[0m\n\u001b[1;32m   1879\u001b[0m                     \u001b[0;32mif\u001b[0m \u001b[0;32mnot\u001b[0m \u001b[0misinstance\u001b[0m\u001b[0;34m(\u001b[0m\u001b[0mouts\u001b[0m\u001b[0;34m,\u001b[0m \u001b[0mlist\u001b[0m\u001b[0;34m)\u001b[0m\u001b[0;34m:\u001b[0m\u001b[0;34m\u001b[0m\u001b[0m\n",
      "\u001b[0;32m/usr/local/lib/python2.7/dist-packages/keras/engine/training.pyc\u001b[0m in \u001b[0;36mtrain_on_batch\u001b[0;34m(self, x, y, sample_weight, class_weight)\u001b[0m\n\u001b[1;32m   1619\u001b[0m             \u001b[0mins\u001b[0m \u001b[0;34m=\u001b[0m \u001b[0mx\u001b[0m \u001b[0;34m+\u001b[0m \u001b[0my\u001b[0m \u001b[0;34m+\u001b[0m \u001b[0msample_weights\u001b[0m\u001b[0;34m\u001b[0m\u001b[0m\n\u001b[1;32m   1620\u001b[0m         \u001b[0mself\u001b[0m\u001b[0;34m.\u001b[0m\u001b[0m_make_train_function\u001b[0m\u001b[0;34m(\u001b[0m\u001b[0;34m)\u001b[0m\u001b[0;34m\u001b[0m\u001b[0m\n\u001b[0;32m-> 1621\u001b[0;31m         \u001b[0moutputs\u001b[0m \u001b[0;34m=\u001b[0m \u001b[0mself\u001b[0m\u001b[0;34m.\u001b[0m\u001b[0mtrain_function\u001b[0m\u001b[0;34m(\u001b[0m\u001b[0mins\u001b[0m\u001b[0;34m)\u001b[0m\u001b[0;34m\u001b[0m\u001b[0m\n\u001b[0m\u001b[1;32m   1622\u001b[0m         \u001b[0;32mif\u001b[0m \u001b[0mlen\u001b[0m\u001b[0;34m(\u001b[0m\u001b[0moutputs\u001b[0m\u001b[0;34m)\u001b[0m \u001b[0;34m==\u001b[0m \u001b[0;36m1\u001b[0m\u001b[0;34m:\u001b[0m\u001b[0;34m\u001b[0m\u001b[0m\n\u001b[1;32m   1623\u001b[0m             \u001b[0;32mreturn\u001b[0m \u001b[0moutputs\u001b[0m\u001b[0;34m[\u001b[0m\u001b[0;36m0\u001b[0m\u001b[0;34m]\u001b[0m\u001b[0;34m\u001b[0m\u001b[0m\n",
      "\u001b[0;32m/usr/local/lib/python2.7/dist-packages/keras/backend/tensorflow_backend.pyc\u001b[0m in \u001b[0;36m__call__\u001b[0;34m(self, inputs)\u001b[0m\n\u001b[1;32m   2101\u001b[0m         \u001b[0msession\u001b[0m \u001b[0;34m=\u001b[0m \u001b[0mget_session\u001b[0m\u001b[0;34m(\u001b[0m\u001b[0;34m)\u001b[0m\u001b[0;34m\u001b[0m\u001b[0m\n\u001b[1;32m   2102\u001b[0m         updated = session.run(self.outputs + [self.updates_op],\n\u001b[0;32m-> 2103\u001b[0;31m                               feed_dict=feed_dict)\n\u001b[0m\u001b[1;32m   2104\u001b[0m         \u001b[0;32mreturn\u001b[0m \u001b[0mupdated\u001b[0m\u001b[0;34m[\u001b[0m\u001b[0;34m:\u001b[0m\u001b[0mlen\u001b[0m\u001b[0;34m(\u001b[0m\u001b[0mself\u001b[0m\u001b[0;34m.\u001b[0m\u001b[0moutputs\u001b[0m\u001b[0;34m)\u001b[0m\u001b[0;34m]\u001b[0m\u001b[0;34m\u001b[0m\u001b[0m\n\u001b[1;32m   2105\u001b[0m \u001b[0;34m\u001b[0m\u001b[0m\n",
      "\u001b[0;32m/usr/local/lib/python2.7/dist-packages/tensorflow/python/client/session.pyc\u001b[0m in \u001b[0;36mrun\u001b[0;34m(self, fetches, feed_dict, options, run_metadata)\u001b[0m\n\u001b[1;32m    765\u001b[0m     \u001b[0;32mtry\u001b[0m\u001b[0;34m:\u001b[0m\u001b[0;34m\u001b[0m\u001b[0m\n\u001b[1;32m    766\u001b[0m       result = self._run(None, fetches, feed_dict, options_ptr,\n\u001b[0;32m--> 767\u001b[0;31m                          run_metadata_ptr)\n\u001b[0m\u001b[1;32m    768\u001b[0m       \u001b[0;32mif\u001b[0m \u001b[0mrun_metadata\u001b[0m\u001b[0;34m:\u001b[0m\u001b[0;34m\u001b[0m\u001b[0m\n\u001b[1;32m    769\u001b[0m         \u001b[0mproto_data\u001b[0m \u001b[0;34m=\u001b[0m \u001b[0mtf_session\u001b[0m\u001b[0;34m.\u001b[0m\u001b[0mTF_GetBuffer\u001b[0m\u001b[0;34m(\u001b[0m\u001b[0mrun_metadata_ptr\u001b[0m\u001b[0;34m)\u001b[0m\u001b[0;34m\u001b[0m\u001b[0m\n",
      "\u001b[0;32m/usr/local/lib/python2.7/dist-packages/tensorflow/python/client/session.pyc\u001b[0m in \u001b[0;36m_run\u001b[0;34m(self, handle, fetches, feed_dict, options, run_metadata)\u001b[0m\n\u001b[1;32m    963\u001b[0m     \u001b[0;32mif\u001b[0m \u001b[0mfinal_fetches\u001b[0m \u001b[0;32mor\u001b[0m \u001b[0mfinal_targets\u001b[0m\u001b[0;34m:\u001b[0m\u001b[0;34m\u001b[0m\u001b[0m\n\u001b[1;32m    964\u001b[0m       results = self._do_run(handle, final_targets, final_fetches,\n\u001b[0;32m--> 965\u001b[0;31m                              feed_dict_string, options, run_metadata)\n\u001b[0m\u001b[1;32m    966\u001b[0m     \u001b[0;32melse\u001b[0m\u001b[0;34m:\u001b[0m\u001b[0;34m\u001b[0m\u001b[0m\n\u001b[1;32m    967\u001b[0m       \u001b[0mresults\u001b[0m \u001b[0;34m=\u001b[0m \u001b[0;34m[\u001b[0m\u001b[0;34m]\u001b[0m\u001b[0;34m\u001b[0m\u001b[0m\n",
      "\u001b[0;32m/usr/local/lib/python2.7/dist-packages/tensorflow/python/client/session.pyc\u001b[0m in \u001b[0;36m_do_run\u001b[0;34m(self, handle, target_list, fetch_list, feed_dict, options, run_metadata)\u001b[0m\n\u001b[1;32m   1013\u001b[0m     \u001b[0;32mif\u001b[0m \u001b[0mhandle\u001b[0m \u001b[0;32mis\u001b[0m \u001b[0mNone\u001b[0m\u001b[0;34m:\u001b[0m\u001b[0;34m\u001b[0m\u001b[0m\n\u001b[1;32m   1014\u001b[0m       return self._do_call(_run_fn, self._session, feed_dict, fetch_list,\n\u001b[0;32m-> 1015\u001b[0;31m                            target_list, options, run_metadata)\n\u001b[0m\u001b[1;32m   1016\u001b[0m     \u001b[0;32melse\u001b[0m\u001b[0;34m:\u001b[0m\u001b[0;34m\u001b[0m\u001b[0m\n\u001b[1;32m   1017\u001b[0m       return self._do_call(_prun_fn, self._session, handle, feed_dict,\n",
      "\u001b[0;32m/usr/local/lib/python2.7/dist-packages/tensorflow/python/client/session.pyc\u001b[0m in \u001b[0;36m_do_call\u001b[0;34m(self, fn, *args)\u001b[0m\n\u001b[1;32m   1020\u001b[0m   \u001b[0;32mdef\u001b[0m \u001b[0m_do_call\u001b[0m\u001b[0;34m(\u001b[0m\u001b[0mself\u001b[0m\u001b[0;34m,\u001b[0m \u001b[0mfn\u001b[0m\u001b[0;34m,\u001b[0m \u001b[0;34m*\u001b[0m\u001b[0margs\u001b[0m\u001b[0;34m)\u001b[0m\u001b[0;34m:\u001b[0m\u001b[0;34m\u001b[0m\u001b[0m\n\u001b[1;32m   1021\u001b[0m     \u001b[0;32mtry\u001b[0m\u001b[0;34m:\u001b[0m\u001b[0;34m\u001b[0m\u001b[0m\n\u001b[0;32m-> 1022\u001b[0;31m       \u001b[0;32mreturn\u001b[0m \u001b[0mfn\u001b[0m\u001b[0;34m(\u001b[0m\u001b[0;34m*\u001b[0m\u001b[0margs\u001b[0m\u001b[0;34m)\u001b[0m\u001b[0;34m\u001b[0m\u001b[0m\n\u001b[0m\u001b[1;32m   1023\u001b[0m     \u001b[0;32mexcept\u001b[0m \u001b[0merrors\u001b[0m\u001b[0;34m.\u001b[0m\u001b[0mOpError\u001b[0m \u001b[0;32mas\u001b[0m \u001b[0me\u001b[0m\u001b[0;34m:\u001b[0m\u001b[0;34m\u001b[0m\u001b[0m\n\u001b[1;32m   1024\u001b[0m       \u001b[0mmessage\u001b[0m \u001b[0;34m=\u001b[0m \u001b[0mcompat\u001b[0m\u001b[0;34m.\u001b[0m\u001b[0mas_text\u001b[0m\u001b[0;34m(\u001b[0m\u001b[0me\u001b[0m\u001b[0;34m.\u001b[0m\u001b[0mmessage\u001b[0m\u001b[0;34m)\u001b[0m\u001b[0;34m\u001b[0m\u001b[0m\n",
      "\u001b[0;32m/usr/local/lib/python2.7/dist-packages/tensorflow/python/client/session.pyc\u001b[0m in \u001b[0;36m_run_fn\u001b[0;34m(session, feed_dict, fetch_list, target_list, options, run_metadata)\u001b[0m\n\u001b[1;32m   1002\u001b[0m         return tf_session.TF_Run(session, options,\n\u001b[1;32m   1003\u001b[0m                                  \u001b[0mfeed_dict\u001b[0m\u001b[0;34m,\u001b[0m \u001b[0mfetch_list\u001b[0m\u001b[0;34m,\u001b[0m \u001b[0mtarget_list\u001b[0m\u001b[0;34m,\u001b[0m\u001b[0;34m\u001b[0m\u001b[0m\n\u001b[0;32m-> 1004\u001b[0;31m                                  status, run_metadata)\n\u001b[0m\u001b[1;32m   1005\u001b[0m \u001b[0;34m\u001b[0m\u001b[0m\n\u001b[1;32m   1006\u001b[0m     \u001b[0;32mdef\u001b[0m \u001b[0m_prun_fn\u001b[0m\u001b[0;34m(\u001b[0m\u001b[0msession\u001b[0m\u001b[0;34m,\u001b[0m \u001b[0mhandle\u001b[0m\u001b[0;34m,\u001b[0m \u001b[0mfeed_dict\u001b[0m\u001b[0;34m,\u001b[0m \u001b[0mfetch_list\u001b[0m\u001b[0;34m)\u001b[0m\u001b[0;34m:\u001b[0m\u001b[0;34m\u001b[0m\u001b[0m\n",
      "\u001b[0;31mKeyboardInterrupt\u001b[0m: "
     ]
    }
   ],
   "source": [
    "nb_epoch = 25\n",
    "\n",
    "for layer in model.layers[:7]:\n",
    "    layer.trainable = True\n",
    "\n",
    "hist = model.fit_generator(\n",
    "        train_generator,\n",
    "        steps_per_epoch = 265,\n",
    "        epochs = nb_epoch + total_epochs,\n",
    "        validation_data = validation_generator,\n",
    "        validation_steps = 135,\n",
    "        verbose = 1,\n",
    "        initial_epoch = total_epochs,\n",
    "        callbacks=[log_cb3, \n",
    "                   best_model_cb3,\n",
    "                   latest_model_cb3,\n",
    "                   lr_sched_cb3]\n",
    ")\n",
    "total_epochs += nb_epoch"
   ]
  },
  {
   "cell_type": "code",
   "execution_count": 4,
   "metadata": {},
   "outputs": [
    {
     "name": "stdout",
     "output_type": "stream",
     "text": [
      "_________________________________________________________________\n",
      "Layer (type)                 Output Shape              Param #   \n",
      "=================================================================\n",
      "layer0 (Conv2D)              (None, 256, 256, 64)      640       \n",
      "_________________________________________________________________\n",
      "layer1 (Conv2D)              (None, 256, 256, 64)      36928     \n",
      "_________________________________________________________________\n",
      "layer2 (MaxPooling2D)        (None, 128, 128, 64)      0         \n",
      "_________________________________________________________________\n",
      "layer3 (Conv2D)              (None, 128, 128, 128)     73856     \n",
      "_________________________________________________________________\n",
      "layer4 (Conv2D)              (None, 128, 128, 128)     147584    \n",
      "_________________________________________________________________\n",
      "layer5 (MaxPooling2D)        (None, 64, 64, 128)       0         \n",
      "_________________________________________________________________\n",
      "layer6 (Conv2D)              (None, 64, 64, 256)       295168    \n",
      "_________________________________________________________________\n",
      "layer7 (Conv2D)              (None, 64, 64, 256)       590080    \n",
      "_________________________________________________________________\n",
      "layer8 (MaxPooling2D)        (None, 32, 32, 256)       0         \n",
      "_________________________________________________________________\n",
      "layer9 (Conv2D)              (None, 32, 32, 512)       1180160   \n",
      "_________________________________________________________________\n",
      "conv2d_3 (Conv2D)            (None, 32, 32, 512)       2359808   \n",
      "_________________________________________________________________\n",
      "max_pooling2d_3 (MaxPooling2 (None, 16, 16, 512)       0         \n",
      "_________________________________________________________________\n",
      "flatten_2 (Flatten)          (None, 131072)            0         \n",
      "_________________________________________________________________\n",
      "dense_3 (Dense)              (None, 1024)              134218752 \n",
      "_________________________________________________________________\n",
      "dropout_2 (Dropout)          (None, 1024)              0         \n",
      "_________________________________________________________________\n",
      "dense_4 (Dense)              (None, 50)                51250     \n",
      "=================================================================\n",
      "Total params: 138,954,226\n",
      "Trainable params: 138,842,802\n",
      "Non-trainable params: 111,424\n",
      "_________________________________________________________________\n"
     ]
    }
   ],
   "source": [
    "# load latest, add more convs\n",
    "# model = keras.models.load_model('../models/sketchnet4_3/best.h5')\n",
    "model.load_weights('../models/sketchnet4_3/best.h5')\n",
    "for i in xrange(5):\n",
    "    model.pop()\n",
    "    \n",
    "for i, layer in enumerate(model.layers):\n",
    "    layer.name = 'layer'+str(i)\n",
    "    \n",
    "model.add(Convolution2D(512, (3, 3), \n",
    "                        padding='same', \n",
    "                        activation='relu'))\n",
    "model.add(MaxPooling2D(pool_size=(2, 2)))\n",
    "\n",
    "model.add(Flatten())\n",
    "model.add(Dense(1024, activation='relu'))\n",
    "model.add(Dropout(0.5))\n",
    "model.add(Dense(num_classes, activation='softmax'))\n",
    "model.summary()"
   ]
  },
  {
   "cell_type": "code",
   "execution_count": 5,
   "metadata": {},
   "outputs": [],
   "source": [
    "opt = rmsprop(lr=0.001)\n",
    "model.compile(loss='categorical_crossentropy',\n",
    "              optimizer=opt,\n",
    "              metrics=['accuracy'])"
   ]
  },
  {
   "cell_type": "code",
   "execution_count": 6,
   "metadata": {
    "collapsed": true
   },
   "outputs": [],
   "source": [
    "model_name = 'sketchnet4_4'\n",
    "%mkdir -p ../logs/{model_name}\n",
    "%mkdir -p ../models/{model_name}\n",
    "\n",
    "log_cb4 =\\\n",
    "    TensorBoard(log_dir='../logs/'+model_name+'/', \n",
    "                histogram_freq=0, \n",
    "                write_graph=False, write_images=False)\n",
    "best_model_cb4 =\\\n",
    "    ModelCheckpoint('../models/'+model_name+'/best.h5', \n",
    "                    monitor='val_acc', verbose=0, \n",
    "                    save_best_only=True, \n",
    "                    mode='auto', period=1)\n",
    "latest_model_cb4 =\\\n",
    "    ModelCheckpoint('../models/'+model_name+'/latest.h5', \n",
    "                    monitor='val_acc', verbose=0, \n",
    "                    period=1)    \n",
    "def sched_lr(e):\n",
    "    if e == 0:\n",
    "        return 0.0001\n",
    "    elif e < 5:\n",
    "        return 0.001\n",
    "    elif e < 10:\n",
    "        return 0.0005\n",
    "    elif e < 15:\n",
    "        return 0.00025\n",
    "    else:\n",
    "        return 0.0001\n",
    "lr_sched_cb4 =\\\n",
    "    keras.callbacks.LearningRateScheduler(sched_lr)"
   ]
  },
  {
   "cell_type": "code",
   "execution_count": 7,
   "metadata": {
    "collapsed": true
   },
   "outputs": [],
   "source": [
    "total_epochs = 0"
   ]
  },
  {
   "cell_type": "code",
   "execution_count": null,
   "metadata": {},
   "outputs": [
    {
     "name": "stdout",
     "output_type": "stream",
     "text": [
      "Epoch 1/25\n",
      "265/265 [==============================] - 196s - loss: 0.9027 - acc: 0.7472 - val_loss: 1.2984 - val_acc: 0.7133\n",
      "Epoch 22/25\n",
      "265/265 [==============================] - 197s - loss: 0.9049 - acc: 0.7543 - val_loss: 1.2631 - val_acc: 0.7200\n",
      "Epoch 23/25\n",
      "265/265 [==============================] - 187s - loss: 0.8571 - acc: 0.7570 - val_loss: 1.3913 - val_acc: 0.6956\n",
      "Epoch 24/25\n",
      "265/265 [==============================] - 186s - loss: 0.8887 - acc: 0.7540 - val_loss: 1.2467 - val_acc: 0.7067\n",
      "Epoch 25/25\n",
      "265/265 [==============================] - 196s - loss: 0.8744 - acc: 0.7608 - val_loss: 1.2355 - val_acc: 0.7244\n"
     ]
    }
   ],
   "source": [
    "nb_epoch = 25\n",
    "\n",
    "for layer in model.layers[:9]:\n",
    "    layer.trainable = False\n",
    "\n",
    "hist = model.fit_generator(\n",
    "        train_generator,\n",
    "        steps_per_epoch = 265,\n",
    "        epochs = nb_epoch + total_epochs,\n",
    "        validation_data = validation_generator,\n",
    "        validation_steps = 135,\n",
    "        verbose = 1,\n",
    "        initial_epoch = total_epochs,\n",
    "        callbacks=[log_cb4, \n",
    "                   best_model_cb4,\n",
    "                   latest_model_cb4,\n",
    "                   lr_sched_cb4]\n",
    ")\n",
    "total_epochs += nb_epoch"
   ]
  },
  {
   "cell_type": "code",
   "execution_count": null,
   "metadata": {},
   "outputs": [
    {
     "name": "stdout",
     "output_type": "stream",
     "text": [
      "Epoch 26/50\n",
      "265/265 [==============================] - 187s - loss: 0.8286 - acc: 0.7702 - val_loss: 1.3786 - val_acc: 0.7052\n",
      "Epoch 27/50\n",
      "265/265 [==============================] - 197s - loss: 0.8344 - acc: 0.7706 - val_loss: 1.3898 - val_acc: 0.7267\n",
      "Epoch 28/50\n",
      "265/265 [==============================] - 187s - loss: 0.8250 - acc: 0.7860 - val_loss: 1.3067 - val_acc: 0.7215\n",
      "Epoch 29/50\n",
      "265/265 [==============================] - 186s - loss: 0.8393 - acc: 0.7774 - val_loss: 1.2297 - val_acc: 0.7156\n",
      "Epoch 30/50\n",
      "265/265 [==============================] - 197s - loss: 0.8274 - acc: 0.7777 - val_loss: 1.1853 - val_acc: 0.7311\n",
      "Epoch 31/50\n",
      "265/265 [==============================] - 186s - loss: 0.8136 - acc: 0.7691 - val_loss: 1.3304 - val_acc: 0.6948\n",
      "Epoch 32/50\n",
      "265/265 [==============================] - 186s - loss: 0.7975 - acc: 0.7751 - val_loss: 1.2965 - val_acc: 0.7200\n",
      "Epoch 33/50\n",
      "265/265 [==============================] - 196s - loss: 0.8270 - acc: 0.7728 - val_loss: 1.3608 - val_acc: 0.7326\n",
      "Epoch 34/50\n",
      "265/265 [==============================] - 186s - loss: 0.8138 - acc: 0.7740 - val_loss: 1.1580 - val_acc: 0.7215\n",
      "Epoch 35/50\n",
      "265/265 [==============================] - 187s - loss: 0.8065 - acc: 0.7736 - val_loss: 1.2903 - val_acc: 0.7274\n",
      "Epoch 36/50\n",
      "265/265 [==============================] - 186s - loss: 0.8103 - acc: 0.7747 - val_loss: 1.2687 - val_acc: 0.7207\n",
      "Epoch 37/50\n",
      "265/265 [==============================] - 186s - loss: 0.8048 - acc: 0.7698 - val_loss: 1.2623 - val_acc: 0.7200\n",
      "Epoch 38/50\n",
      "265/265 [==============================] - 186s - loss: 0.7413 - acc: 0.7981 - val_loss: 1.2935 - val_acc: 0.7274\n",
      "Epoch 39/50\n",
      "265/265 [==============================] - 187s - loss: 0.7803 - acc: 0.7789 - val_loss: 1.4363 - val_acc: 0.7133\n",
      "Epoch 40/50\n",
      "265/265 [==============================] - 187s - loss: 0.8023 - acc: 0.7906 - val_loss: 1.3973 - val_acc: 0.7274\n",
      "Epoch 41/50\n",
      "265/265 [==============================] - 186s - loss: 0.7678 - acc: 0.7811 - val_loss: 1.5293 - val_acc: 0.7119\n",
      "Epoch 42/50\n",
      "265/265 [==============================] - 187s - loss: 0.7578 - acc: 0.7928 - val_loss: 1.3471 - val_acc: 0.7207\n",
      "Epoch 43/50\n",
      "265/265 [==============================] - 187s - loss: 0.7580 - acc: 0.7879 - val_loss: 1.4104 - val_acc: 0.7170\n",
      "Epoch 44/50\n",
      "265/265 [==============================] - 187s - loss: 0.7587 - acc: 0.7958 - val_loss: 1.3933 - val_acc: 0.7200\n",
      "Epoch 45/50\n",
      "265/265 [==============================] - 187s - loss: 0.7224 - acc: 0.8079 - val_loss: 1.3244 - val_acc: 0.7267\n",
      "Epoch 47/50\n",
      "265/265 [==============================] - 187s - loss: 0.7701 - acc: 0.7875 - val_loss: 1.4845 - val_acc: 0.7170\n",
      "Epoch 48/50\n",
      "265/265 [==============================] - 186s - loss: 0.7251 - acc: 0.8075 - val_loss: 1.4134 - val_acc: 0.7252\n",
      "Epoch 49/50\n",
      "265/265 [==============================] - 186s - loss: 0.7697 - acc: 0.8038 - val_loss: 1.4770 - val_acc: 0.7222\n"
     ]
    }
   ],
   "source": [
    "def sched_lr(e):\n",
    "    if e == 0:\n",
    "        return 0.0001\n",
    "    elif e < 10:\n",
    "        return 0.0005\n",
    "    elif e < 15:\n",
    "        return 0.00025\n",
    "    else:\n",
    "        return 0.0001\n",
    "lr_sched_cb4_2 =\\\n",
    "    keras.callbacks.LearningRateScheduler(sched_lr)\n",
    "    \n",
    "nb_epoch = 25\n",
    "\n",
    "for layer in model.layers[:9]:\n",
    "    layer.trainable = True\n",
    "\n",
    "hist = model.fit_generator(\n",
    "        train_generator,\n",
    "        steps_per_epoch = 265,\n",
    "        epochs = nb_epoch + total_epochs,\n",
    "        validation_data = validation_generator,\n",
    "        validation_steps = 135,\n",
    "        verbose = 1,\n",
    "        initial_epoch = total_epochs,\n",
    "        callbacks=[log_cb4, \n",
    "                   best_model_cb4,\n",
    "                   latest_model_cb4,\n",
    "                   lr_sched_cb4_2]\n",
    ")\n",
    "total_epochs += nb_epoch"
   ]
  },
  {
   "cell_type": "code",
   "execution_count": null,
   "metadata": {
    "collapsed": true
   },
   "outputs": [],
   "source": [
    "metrics = model.evaluate_generator(validation_generator, steps=135)\n",
    "print 'val', model.metrics_names, metrics"
   ]
  },
  {
   "cell_type": "code",
   "execution_count": null,
   "metadata": {
    "collapsed": true
   },
   "outputs": [],
   "source": []
  }
 ],
 "metadata": {
  "kernelspec": {
   "display_name": "Python 2",
   "language": "python",
   "name": "python2"
  },
  "language_info": {
   "codemirror_mode": {
    "name": "ipython",
    "version": 2
   },
   "file_extension": ".py",
   "mimetype": "text/x-python",
   "name": "python",
   "nbconvert_exporter": "python",
   "pygments_lexer": "ipython2",
   "version": "2.7.12"
  }
 },
 "nbformat": 4,
 "nbformat_minor": 2
}

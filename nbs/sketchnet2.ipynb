{
 "cells": [
  {
   "cell_type": "code",
   "execution_count": 9,
   "metadata": {},
   "outputs": [],
   "source": [
    "import os\n",
    "import string\n",
    "import glob\n",
    "import shutil\n",
    "import re, random\n",
    "\n",
    "\n",
    "import h5py\n",
    "\n",
    "import matplotlib.pyplot as plt\n",
    "import time, pickle, pandas\n",
    "\n",
    "import numpy as np\n",
    "\n",
    "import keras\n",
    "from keras.optimizers import rmsprop\n",
    "from keras.preprocessing.image import ImageDataGenerator\n",
    "from keras.models import Sequential, load_model\n",
    "from keras.layers import Convolution2D, MaxPooling2D, ZeroPadding2D\n",
    "from keras.layers import Activation, Dropout, Flatten, Dense\n",
    "from keras.layers import BatchNormalization\n",
    "from keras.callbacks import TensorBoard, ModelCheckpoint\n",
    "from keras import backend\n",
    "from keras import optimizers\n",
    "from keras import backend as K\n",
    "\n",
    "import tensorflow as tf\n",
    "\n",
    "import utils\n",
    "reload(utils)\n",
    "\n",
    "%matplotlib inline"
   ]
  },
  {
   "cell_type": "code",
   "execution_count": 49,
   "metadata": {
    "collapsed": true,
    "scrolled": false
   },
   "outputs": [],
   "source": [
    "utils.take_sample('../data/tu-berlin',\n",
    "            '../data/tu-berlin/sample50', 50)"
   ]
  },
  {
   "cell_type": "code",
   "execution_count": 2,
   "metadata": {},
   "outputs": [
    {
     "name": "stdout",
     "output_type": "stream",
     "text": [
      "Found 2650 images belonging to 50 classes.\n",
      "Found 1350 images belonging to 50 classes.\n",
      "256 256 1 50\n"
     ]
    }
   ],
   "source": [
    "batch_size = 10\n",
    "\n",
    "data_root = '../data/tu-berlin/sample50/'\n",
    "train_data_dir = data_root + 'train'\n",
    "validation_data_dir = data_root + 'test'\n",
    "\n",
    "\n",
    "\n",
    "# this is the augmentation configuration we will use for training\n",
    "train_datagen = ImageDataGenerator(\n",
    "        rescale=1./255,\n",
    "        shear_range=0.25,\n",
    "        zoom_range=0.25,\n",
    "        rotation_range=35,\n",
    "        horizontal_flip=True)\n",
    "\n",
    "# this is the augmentation configuration we will use for testing:\n",
    "# only rescaling\n",
    "test_datagen = ImageDataGenerator(rescale=1./255)\n",
    "\n",
    "train_generator = train_datagen.flow_from_directory(\n",
    "        train_data_dir,\n",
    "#         target_size=(img_width, img_height),\n",
    "        batch_size=batch_size,\n",
    "        class_mode='categorical',\n",
    "        color_mode='grayscale')\n",
    "\n",
    "validation_generator = test_datagen.flow_from_directory(\n",
    "        validation_data_dir,\n",
    "#         target_size=(img_width, img_height),\n",
    "        batch_size=batch_size,\n",
    "        class_mode='categorical',\n",
    "        color_mode='grayscale')\n",
    "\n",
    "batch, y = train_generator.next()\n",
    "img_height = batch.shape[1]\n",
    "img_width = batch.shape[2]\n",
    "channels = batch.shape[3]\n",
    "num_classes = len(y[0])\n",
    "print img_height, img_width, channels, num_classes"
   ]
  },
  {
   "cell_type": "code",
   "execution_count": 3,
   "metadata": {
    "collapsed": true
   },
   "outputs": [],
   "source": [
    "model_name = 'sketchnet2'\n",
    "%mkdir -p ../logs/{model_name}\n",
    "%mkdir -p ../models/{model_name}\n",
    "\n",
    "log_cb =\\\n",
    "    TensorBoard(log_dir='../logs/'+model_name+'/', \n",
    "                histogram_freq=0, \n",
    "                write_graph=False, write_images=False)\n",
    "best_model_cb =\\\n",
    "    ModelCheckpoint('../models/'+model_name+'/best.h5', \n",
    "                    monitor='val_acc', verbose=0, \n",
    "                    save_best_only=True, \n",
    "                    mode='auto', period=1)\n",
    "latest_model_cb =\\\n",
    "    ModelCheckpoint('../models/'+model_name+'/latest.h5', \n",
    "                    monitor='val_acc', verbose=0, \n",
    "                    period=1)"
   ]
  },
  {
   "cell_type": "code",
   "execution_count": 4,
   "metadata": {
    "collapsed": true
   },
   "outputs": [],
   "source": [
    "def build_sketchnet1():\n",
    "    model = Sequential()\n",
    "    model.add(Convolution2D(64, (3, 3), \n",
    "                            padding='same',\n",
    "                            activation='relu',\n",
    "                            input_shape=(img_width, img_height, channels)))\n",
    "    model.add(MaxPooling2D(pool_size=(2, 2)))\n",
    "\n",
    "    model.add(Convolution2D(128, (3, 3), \n",
    "                            padding='same', \n",
    "                            activation='relu'))\n",
    "    model.add(MaxPooling2D(pool_size=(2, 2)))\n",
    "    model.add(Dropout(0.125))\n",
    "\n",
    "    model.add(Convolution2D(256, (3, 3), \n",
    "                            padding='same', \n",
    "                            activation='relu'))\n",
    "    model.add(MaxPooling2D(pool_size=(2, 2)))\n",
    "    model.add(Dropout(0.25))\n",
    "\n",
    "    model.add(Flatten())\n",
    "    model.add(Dense(512, activation='relu'))\n",
    "    model.add(Dropout(0.5))\n",
    "    model.add(Dense(3, activation='softmax'))\n",
    "\n",
    "    # initialize optimizer\n",
    "    opt = rmsprop(lr=0.0001)\n",
    "\n",
    "#     model.compile(loss='categorical_crossentropy',\n",
    "#                   optimizer=opt,\n",
    "#                   metrics=['accuracy'])\n",
    "    \n",
    "    return model, opt\n",
    "\n",
    "model, opt = build_sketchnet1()\n",
    "model.load_weights('../models/sketchnet1_best.h5')"
   ]
  },
  {
   "cell_type": "code",
   "execution_count": 5,
   "metadata": {},
   "outputs": [
    {
     "name": "stdout",
     "output_type": "stream",
     "text": [
      "_________________________________________________________________\n",
      "Layer (type)                 Output Shape              Param #   \n",
      "=================================================================\n",
      "conv2d_1 (Conv2D)            (None, 256, 256, 64)      640       \n",
      "_________________________________________________________________\n",
      "max_pooling2d_1 (MaxPooling2 (None, 128, 128, 64)      0         \n",
      "_________________________________________________________________\n",
      "conv2d_2 (Conv2D)            (None, 128, 128, 128)     73856     \n",
      "_________________________________________________________________\n",
      "max_pooling2d_2 (MaxPooling2 (None, 64, 64, 128)       0         \n",
      "_________________________________________________________________\n",
      "dropout_1 (Dropout)          (None, 64, 64, 128)       0         \n",
      "_________________________________________________________________\n",
      "conv2d_3 (Conv2D)            (None, 64, 64, 256)       295168    \n",
      "_________________________________________________________________\n",
      "max_pooling2d_3 (MaxPooling2 (None, 32, 32, 256)       0         \n",
      "_________________________________________________________________\n",
      "dropout_2 (Dropout)          (None, 32, 32, 256)       0         \n",
      "_________________________________________________________________\n",
      "flatten_1 (Flatten)          (None, 262144)            0         \n",
      "_________________________________________________________________\n",
      "dense_1 (Dense)              (None, 512)               134218240 \n",
      "_________________________________________________________________\n",
      "dropout_3 (Dropout)          (None, 512)               0         \n",
      "_________________________________________________________________\n",
      "dense_3 (Dense)              (None, 50)                25650     \n",
      "=================================================================\n",
      "Total params: 134,613,554\n",
      "Trainable params: 134,613,554\n",
      "Non-trainable params: 0\n",
      "_________________________________________________________________\n"
     ]
    }
   ],
   "source": [
    "model.layers.pop()\n",
    "model.layers[-1].outbound_nodes = []\n",
    "model.outputs = [model.layers[-1].output]\n",
    "model.add(Dense(num_classes, activation='softmax'))\n",
    "model.compile(loss='categorical_crossentropy',\n",
    "              optimizer=opt,\n",
    "              metrics=['accuracy'])\n",
    "model.summary()"
   ]
  },
  {
   "cell_type": "code",
   "execution_count": 6,
   "metadata": {
    "collapsed": true
   },
   "outputs": [],
   "source": [
    "total_epochs=0"
   ]
  },
  {
   "cell_type": "code",
   "execution_count": 7,
   "metadata": {},
   "outputs": [
    {
     "name": "stdout",
     "output_type": "stream",
     "text": [
      "Epoch 1/1\n",
      "265/265 [==============================] - 95s - loss: 3.9070 - acc: 0.0321 - val_loss: 3.8329 - val_acc: 0.0556\n"
     ]
    }
   ],
   "source": [
    "nb_epoch = 1\n",
    "K.set_value(opt.lr, 0.0001)\n",
    "\n",
    "hist = model.fit_generator(\n",
    "        train_generator,\n",
    "        steps_per_epoch = 265,\n",
    "        epochs = nb_epoch + total_epochs,\n",
    "        validation_data = validation_generator,\n",
    "        validation_steps = 135,\n",
    "#         nb_val_samples = nb_validation_samples,\n",
    "        verbose = 1,\n",
    "        initial_epoch = total_epochs,\n",
    "        callbacks=[log_cb, \n",
    "                   best_model_cb,\n",
    "                   latest_model_cb]\n",
    ")\n",
    "total_epochs += nb_epoch"
   ]
  },
  {
   "cell_type": "code",
   "execution_count": null,
   "metadata": {},
   "outputs": [
    {
     "name": "stdout",
     "output_type": "stream",
     "text": [
      "Epoch 2/26\n",
      "265/265 [==============================] - 111s - loss: 3.5669 - acc: 0.0947 - val_loss: 2.9160 - val_acc: 0.2622\n",
      "Epoch 3/26\n",
      "265/265 [==============================] - 110s - loss: 3.0264 - acc: 0.1985 - val_loss: 2.5593 - val_acc: 0.3178\n",
      "Epoch 4/26\n",
      "265/265 [==============================] - 110s - loss: 2.8600 - acc: 0.2392 - val_loss: 2.4103 - val_acc: 0.3667\n",
      "Epoch 5/26\n",
      "265/265 [==============================] - 110s - loss: 2.7268 - acc: 0.2774 - val_loss: 2.3099 - val_acc: 0.3993\n",
      "Epoch 6/26\n",
      "264/265 [============================>.] - ETA: 0s - loss: 2.5769 - acc: 0.3042"
     ]
    }
   ],
   "source": [
    "nb_epoch = 25\n",
    "K.set_value(opt.lr, 0.001)\n",
    "\n",
    "hist = model.fit_generator(\n",
    "        train_generator,\n",
    "        steps_per_epoch = 265,\n",
    "        epochs = nb_epoch + total_epochs,\n",
    "        validation_data = validation_generator,\n",
    "        validation_steps = 135,\n",
    "#         nb_val_samples = nb_validation_samples,\n",
    "        verbose = 1,\n",
    "        initial_epoch = total_epochs,\n",
    "        callbacks=[log_cb, \n",
    "                   best_model_cb,\n",
    "                   latest_model_cb]\n",
    ")\n",
    "total_epochs += nb_epoch"
   ]
  },
  {
   "cell_type": "code",
   "execution_count": 11,
   "metadata": {},
   "outputs": [
    {
     "name": "stdout",
     "output_type": "stream",
     "text": [
      " val ['loss', 'acc'] [1.6908005754902677, 0.55773586434013434]\n",
      "val ['loss', 'acc'] [2.2257320075123399, 0.50444445599008492]\n"
     ]
    }
   ],
   "source": [
    "metrics = model.evaluate_generator(train_generator, steps=265)\n",
    "print 'val', model.metrics_names, metrics\n",
    "metrics = model.evaluate_generator(validation_generator, steps=135)\n",
    "print 'val', model.metrics_names, metrics"
   ]
  },
  {
   "cell_type": "code",
   "execution_count": null,
   "metadata": {},
   "outputs": [
    {
     "name": "stdout",
     "output_type": "stream",
     "text": [
      "Epoch 27/51\n",
      "265/265 [==============================] - 110s - loss: 1.9351 - acc: 0.4777 - val_loss: 1.9187 - val_acc: 0.5430\n",
      "Epoch 28/51\n",
      "265/265 [==============================] - 100s - loss: 1.8514 - acc: 0.5000 - val_loss: 1.9673 - val_acc: 0.5385\n",
      "Epoch 29/51\n",
      "265/265 [==============================] - 100s - loss: 1.8923 - acc: 0.4992 - val_loss: 1.9312 - val_acc: 0.5363\n",
      "Epoch 30/51\n",
      "265/265 [==============================] - 110s - loss: 1.8759 - acc: 0.5106 - val_loss: 1.8682 - val_acc: 0.5541\n",
      "Epoch 31/51\n",
      "265/265 [==============================] - 100s - loss: 1.8553 - acc: 0.4985 - val_loss: 1.9738 - val_acc: 0.5415\n",
      "Epoch 32/51\n",
      "265/265 [==============================] - 100s - loss: 1.8406 - acc: 0.5053 - val_loss: 1.8971 - val_acc: 0.5378\n",
      "Epoch 36/51\n",
      "265/265 [==============================] - 101s - loss: 1.8398 - acc: 0.5321 - val_loss: 1.8486 - val_acc: 0.5585\n",
      "Epoch 40/51\n",
      "265/265 [==============================] - 100s - loss: 1.8274 - acc: 0.5204 - val_loss: 1.8390 - val_acc: 0.5570\n",
      "Epoch 41/51\n",
      "265/265 [==============================] - 100s - loss: 1.8408 - acc: 0.5121 - val_loss: 1.8444 - val_acc: 0.5607\n",
      "Epoch 42/51\n",
      "265/265 [==============================] - 100s - loss: 1.8162 - acc: 0.5189 - val_loss: 1.8652 - val_acc: 0.5615\n",
      "Epoch 43/51\n",
      "265/265 [==============================] - 100s - loss: 1.8485 - acc: 0.5136 - val_loss: 1.9134 - val_acc: 0.5556\n",
      "Epoch 44/51\n",
      "265/265 [==============================] - 101s - loss: 1.7795 - acc: 0.5309 - val_loss: 1.8590 - val_acc: 0.5637\n",
      "Epoch 45/51\n",
      "265/265 [==============================] - 101s - loss: 1.8416 - acc: 0.5143 - val_loss: 2.0557 - val_acc: 0.5400\n",
      "Epoch 46/51\n",
      "265/265 [==============================] - 101s - loss: 1.8120 - acc: 0.5272 - val_loss: 1.8890 - val_acc: 0.5667\n",
      "Epoch 47/51\n",
      "265/265 [==============================] - 100s - loss: 1.8399 - acc: 0.5208 - val_loss: 1.7321 - val_acc: 0.5681\n",
      "Epoch 48/51\n",
      "265/265 [==============================] - 101s - loss: 1.8491 - acc: 0.5060 - val_loss: 1.9030 - val_acc: 0.5504\n",
      "Epoch 49/51\n",
      "265/265 [==============================] - 101s - loss: 1.8403 - acc: 0.5121 - val_loss: 1.8151 - val_acc: 0.5681\n",
      "Epoch 50/51\n",
      "265/265 [==============================] - 100s - loss: 1.8016 - acc: 0.5189 - val_loss: 1.8622 - val_acc: 0.5711\n",
      "Epoch 51/51\n",
      " 14/265 [>.............................] - ETA: 79s - loss: 2.0119 - acc: 0.4714"
     ]
    }
   ],
   "source": [
    "nb_epoch = 25\n",
    "K.set_value(opt.lr, 0.0001)\n",
    "\n",
    "hist = model.fit_generator(\n",
    "        train_generator,\n",
    "        steps_per_epoch = 265,\n",
    "        epochs = nb_epoch + total_epochs,\n",
    "        validation_data = validation_generator,\n",
    "        validation_steps = 135,\n",
    "#         nb_val_samples = nb_validation_samples,\n",
    "        verbose = 1,\n",
    "        initial_epoch = total_epochs,\n",
    "        callbacks=[log_cb, \n",
    "                   best_model_cb,\n",
    "                   latest_model_cb]\n",
    ")\n",
    "total_epochs += nb_epoch"
   ]
  },
  {
   "cell_type": "code",
   "execution_count": null,
   "metadata": {
    "collapsed": true
   },
   "outputs": [],
   "source": [
    "metrics = model.evaluate_generator(train_generator, steps=265)\n",
    "print 'train', model.metrics_names, metrics\n",
    "metrics = model.evaluate_generator(validation_generator, steps=135)\n",
    "print 'val', model.metrics_names, metrics"
   ]
  },
  {
   "cell_type": "code",
   "execution_count": null,
   "metadata": {
    "collapsed": true
   },
   "outputs": [],
   "source": []
  }
 ],
 "metadata": {
  "kernelspec": {
   "display_name": "Python 2",
   "language": "python",
   "name": "python2"
  },
  "language_info": {
   "codemirror_mode": {
    "name": "ipython",
    "version": 2
   },
   "file_extension": ".py",
   "mimetype": "text/x-python",
   "name": "python",
   "nbconvert_exporter": "python",
   "pygments_lexer": "ipython2",
   "version": "2.7.12"
  }
 },
 "nbformat": 4,
 "nbformat_minor": 2
}

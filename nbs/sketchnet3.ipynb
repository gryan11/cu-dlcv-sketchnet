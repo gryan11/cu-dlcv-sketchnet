{
 "cells": [
  {
   "cell_type": "code",
   "execution_count": 1,
   "metadata": {},
   "outputs": [
    {
     "name": "stderr",
     "output_type": "stream",
     "text": [
      "Using TensorFlow backend.\n"
     ]
    }
   ],
   "source": [
    "import keras\n",
    "from keras.optimizers import rmsprop\n",
    "from keras.preprocessing.image import ImageDataGenerator\n",
    "from keras.models import Sequential, load_model\n",
    "from keras.layers import Convolution2D, MaxPooling2D, ZeroPadding2D\n",
    "from keras.layers import Activation, Dropout, Flatten, Dense\n",
    "from keras.layers import BatchNormalization\n",
    "from keras.callbacks import TensorBoard, ModelCheckpoint\n",
    "from keras import backend\n",
    "from keras import optimizers\n",
    "from keras import backend as K\n",
    "\n",
    "import numpy as np\n",
    "\n",
    "import h5py\n",
    "\n",
    "import tensorflow as tf\n",
    "\n",
    "import utils\n",
    "reload(utils)\n",
    "\n",
    "%matplotlib inline"
   ]
  },
  {
   "cell_type": "code",
   "execution_count": 2,
   "metadata": {},
   "outputs": [
    {
     "name": "stdout",
     "output_type": "stream",
     "text": [
      "Found 2650 images belonging to 50 classes.\n",
      "Found 1350 images belonging to 50 classes.\n",
      "256 256 1 50\n"
     ]
    }
   ],
   "source": [
    "batch_size = 10\n",
    "\n",
    "data_root = '../data/tu-berlin/sample50/'\n",
    "train_data_dir = data_root + 'train'\n",
    "validation_data_dir = data_root + 'test'\n",
    "\n",
    "\n",
    "\n",
    "# this is the augmentation configuration we will use for training\n",
    "train_datagen = ImageDataGenerator(\n",
    "        rescale=1./255,\n",
    "        shear_range=0.25,\n",
    "        zoom_range=0.25,\n",
    "        rotation_range=35,\n",
    "        horizontal_flip=True)\n",
    "\n",
    "# this is the augmentation configuration we will use for testing:\n",
    "# only rescaling\n",
    "test_datagen = ImageDataGenerator(rescale=1./255)\n",
    "\n",
    "train_generator = train_datagen.flow_from_directory(\n",
    "        train_data_dir,\n",
    "#         target_size=(img_width, img_height),\n",
    "        batch_size=batch_size,\n",
    "        class_mode='categorical',\n",
    "        color_mode='grayscale')\n",
    "\n",
    "validation_generator = test_datagen.flow_from_directory(\n",
    "        validation_data_dir,\n",
    "#         target_size=(img_width, img_height),\n",
    "        batch_size=batch_size,\n",
    "        class_mode='categorical',\n",
    "        color_mode='grayscale')\n",
    "\n",
    "batch, y = train_generator.next()\n",
    "img_height = batch.shape[1]\n",
    "img_width = batch.shape[2]\n",
    "channels = batch.shape[3]\n",
    "num_classes = len(y[0])\n",
    "print img_height, img_width, channels, num_classes"
   ]
  },
  {
   "cell_type": "code",
   "execution_count": 3,
   "metadata": {
    "collapsed": true
   },
   "outputs": [],
   "source": [
    "model_name = 'sketchnet3'\n",
    "%mkdir -p ../logs/{model_name}\n",
    "%mkdir -p ../models/{model_name}\n",
    "\n",
    "log_cb =\\\n",
    "    TensorBoard(log_dir='../logs/'+model_name+'/', \n",
    "                histogram_freq=0, \n",
    "                write_graph=False, write_images=False)\n",
    "best_model_cb =\\\n",
    "    ModelCheckpoint('../models/'+model_name+'/best.h5', \n",
    "                    monitor='val_acc', verbose=0, \n",
    "                    save_best_only=True, \n",
    "                    mode='auto', period=1)\n",
    "latest_model_cb =\\\n",
    "    ModelCheckpoint('../models/'+model_name+'/latest.h5', \n",
    "                    monitor='val_acc', verbose=0, \n",
    "                    period=1)"
   ]
  },
  {
   "cell_type": "code",
   "execution_count": 4,
   "metadata": {
    "collapsed": true
   },
   "outputs": [],
   "source": [
    "def build_model():\n",
    "    model = Sequential()\n",
    "    model.add(Convolution2D(64, (3, 3), \n",
    "                            padding='same',\n",
    "                            activation='relu',\n",
    "                            input_shape=(img_width, img_height, channels)))\n",
    "    model.add(Convolution2D(64, (3, 3), \n",
    "                            padding='same',\n",
    "                            activation='relu'))\n",
    "    model.add(MaxPooling2D(pool_size=(2, 2)))\n",
    "\n",
    "    model.add(Convolution2D(128, (3, 3), \n",
    "                            padding='same', \n",
    "                            activation='relu'))\n",
    "    model.add(Convolution2D(128, (3, 3), \n",
    "                            padding='same', \n",
    "                            activation='relu'))\n",
    "    model.add(MaxPooling2D(pool_size=(2, 2)))\n",
    "    model.add(Dropout(0.125))\n",
    "\n",
    "    model.add(Convolution2D(256, (3, 3), \n",
    "                            padding='same', \n",
    "                            activation='relu'))\n",
    "    model.add(Convolution2D(256, (3, 3), \n",
    "                            padding='same', \n",
    "                            activation='relu'))\n",
    "    model.add(MaxPooling2D(pool_size=(2, 2)))\n",
    "    model.add(Dropout(0.25))\n",
    "\n",
    "    model.add(Flatten())\n",
    "    model.add(Dense(1024, activation='relu'))\n",
    "    model.add(Dropout(0.5))\n",
    "    model.add(Dense(num_classes, activation='softmax'))\n",
    "\n",
    "    # initialize optimizer\n",
    "    opt = rmsprop(lr=0.0001)\n",
    "\n",
    "#     model.compile(loss='categorical_crossentropy',\n",
    "#                   optimizer=opt,\n",
    "#                   metrics=['accuracy'])\n",
    "    \n",
    "    return model, opt\n",
    "\n",
    "model, opt = build_model()\n"
   ]
  },
  {
   "cell_type": "code",
   "execution_count": 5,
   "metadata": {
    "collapsed": true
   },
   "outputs": [],
   "source": [
    "model.load_weights('../models/sketchnet3/latest.h5')"
   ]
  },
  {
   "cell_type": "code",
   "execution_count": 6,
   "metadata": {},
   "outputs": [
    {
     "name": "stdout",
     "output_type": "stream",
     "text": [
      "_________________________________________________________________\n",
      "Layer (type)                 Output Shape              Param #   \n",
      "=================================================================\n",
      "conv2d_1 (Conv2D)            (None, 256, 256, 64)      640       \n",
      "_________________________________________________________________\n",
      "conv2d_2 (Conv2D)            (None, 256, 256, 64)      36928     \n",
      "_________________________________________________________________\n",
      "max_pooling2d_1 (MaxPooling2 (None, 128, 128, 64)      0         \n",
      "_________________________________________________________________\n",
      "conv2d_3 (Conv2D)            (None, 128, 128, 128)     73856     \n",
      "_________________________________________________________________\n",
      "conv2d_4 (Conv2D)            (None, 128, 128, 128)     147584    \n",
      "_________________________________________________________________\n",
      "max_pooling2d_2 (MaxPooling2 (None, 64, 64, 128)       0         \n",
      "_________________________________________________________________\n",
      "dropout_1 (Dropout)          (None, 64, 64, 128)       0         \n",
      "_________________________________________________________________\n",
      "conv2d_5 (Conv2D)            (None, 64, 64, 256)       295168    \n",
      "_________________________________________________________________\n",
      "conv2d_6 (Conv2D)            (None, 64, 64, 256)       590080    \n",
      "_________________________________________________________________\n",
      "max_pooling2d_3 (MaxPooling2 (None, 32, 32, 256)       0         \n",
      "_________________________________________________________________\n",
      "dropout_2 (Dropout)          (None, 32, 32, 256)       0         \n",
      "_________________________________________________________________\n",
      "flatten_1 (Flatten)          (None, 262144)            0         \n",
      "_________________________________________________________________\n",
      "dense_1 (Dense)              (None, 1024)              268436480 \n",
      "_________________________________________________________________\n",
      "dropout_3 (Dropout)          (None, 1024)              0         \n",
      "_________________________________________________________________\n",
      "dense_2 (Dense)              (None, 50)                51250     \n",
      "=================================================================\n",
      "Total params: 269,631,986\n",
      "Trainable params: 269,631,986\n",
      "Non-trainable params: 0\n",
      "_________________________________________________________________\n"
     ]
    }
   ],
   "source": [
    "model.compile(loss='categorical_crossentropy',\n",
    "              optimizer=opt,\n",
    "              metrics=['accuracy'])\n",
    "model.summary()"
   ]
  },
  {
   "cell_type": "code",
   "execution_count": 8,
   "metadata": {
    "collapsed": true
   },
   "outputs": [],
   "source": [
    "total_epochs=22"
   ]
  },
  {
   "cell_type": "code",
   "execution_count": 9,
   "metadata": {},
   "outputs": [
    {
     "name": "stdout",
     "output_type": "stream",
     "text": [
      "Epoch 23/27\n",
      "265/265 [==============================] - 270s - loss: 3.9123 - acc: 0.0174 - val_loss: 3.9121 - val_acc: 0.0200\n",
      "Epoch 24/27\n",
      "265/265 [==============================] - 249s - loss: 3.9122 - acc: 0.0181 - val_loss: 3.9120 - val_acc: 0.0185\n",
      "Epoch 25/27\n",
      "265/265 [==============================] - 249s - loss: 3.9122 - acc: 0.0196 - val_loss: 3.9120 - val_acc: 0.0185\n",
      "Epoch 26/27\n",
      "265/265 [==============================] - 268s - loss: 3.9122 - acc: 0.0158 - val_loss: 3.9121 - val_acc: 0.0207\n",
      "Epoch 27/27\n",
      "265/265 [==============================] - 249s - loss: 3.9122 - acc: 0.0170 - val_loss: 3.9121 - val_acc: 0.0178\n"
     ]
    }
   ],
   "source": [
    "nb_epoch = 5\n",
    "K.set_value(opt.lr, 0.0001)\n",
    "\n",
    "hist = model.fit_generator(\n",
    "        train_generator,\n",
    "        steps_per_epoch = 265,\n",
    "        epochs = nb_epoch + total_epochs,\n",
    "        validation_data = validation_generator,\n",
    "        validation_steps = 135,\n",
    "        verbose = 1,\n",
    "        initial_epoch = total_epochs,\n",
    "        callbacks=[log_cb, \n",
    "                   best_model_cb,\n",
    "                   latest_model_cb]\n",
    ")\n",
    "total_epochs += nb_epoch"
   ]
  },
  {
   "cell_type": "code",
   "execution_count": null,
   "metadata": {},
   "outputs": [
    {
     "name": "stdout",
     "output_type": "stream",
     "text": [
      "Epoch 3/12\n",
      "265/265 [==============================] - 271s - loss: 3.9288 - acc: 0.0128 - val_loss: 3.9121 - val_acc: 0.0200\n",
      "Epoch 4/12\n",
      "265/265 [==============================] - 248s - loss: 3.9142 - acc: 0.0162 - val_loss: 3.9120 - val_acc: 0.0200\n",
      "Epoch 5/12\n",
      "265/265 [==============================] - 249s - loss: 3.9143 - acc: 0.0155 - val_loss: 3.9120 - val_acc: 0.0200\n",
      "Epoch 6/12\n",
      "265/265 [==============================] - 268s - loss: 3.9141 - acc: 0.0151 - val_loss: 3.9120 - val_acc: 0.0215\n",
      "Epoch 7/12\n",
      "265/265 [==============================] - 249s - loss: 3.9135 - acc: 0.0143 - val_loss: 3.9123 - val_acc: 0.0163\n",
      "Epoch 8/12\n",
      "264/265 [============================>.] - ETA: 0s - loss: 3.9133 - acc: 0.0140"
     ]
    }
   ],
   "source": [
    "nb_epoch = 10\n",
    "K.set_value(opt.lr, 0.001)\n",
    "\n",
    "hist = model.fit_generator(\n",
    "        train_generator,\n",
    "        steps_per_epoch = 265,\n",
    "        epochs = nb_epoch + total_epochs,\n",
    "        validation_data = validation_generator,\n",
    "        validation_steps = 135,\n",
    "        verbose = 1,\n",
    "        initial_epoch = total_epochs,\n",
    "        callbacks=[log_cb, \n",
    "                   best_model_cb,\n",
    "                   latest_model_cb]\n",
    ")\n",
    "total_epochs += nb_epoch"
   ]
  },
  {
   "cell_type": "code",
   "execution_count": null,
   "metadata": {},
   "outputs": [
    {
     "name": "stdout",
     "output_type": "stream",
     "text": [
      "265/265 [==============================] - 249s - loss: 3.9134 - acc: 0.0132 - val_loss: 3.9119 - val_acc: 0.0193\n",
      "Epoch 22/22\n",
      "265/265 [==============================] - 249s - loss: 3.9132 - acc: 0.0155 - val_loss: 3.9120 - val_acc: 0.0207\n"
     ]
    }
   ],
   "source": [
    "nb_epoch = 10\n",
    "K.set_value(opt.lr, 0.001)\n",
    "\n",
    "hist = model.fit_generator(\n",
    "        train_generator,\n",
    "        steps_per_epoch = 265,\n",
    "        epochs = nb_epoch + total_epochs,\n",
    "        validation_data = validation_generator,\n",
    "        validation_steps = 135,\n",
    "        verbose = 1,\n",
    "        initial_epoch = total_epochs,\n",
    "        callbacks=[log_cb, \n",
    "                   best_model_cb,\n",
    "                   latest_model_cb]\n",
    ")\n",
    "total_epochs += nb_epoch"
   ]
  },
  {
   "cell_type": "code",
   "execution_count": null,
   "metadata": {
    "collapsed": true
   },
   "outputs": [],
   "source": [
    "model.load_weights('../models/sketchnet3/latest.h5')"
   ]
  },
  {
   "cell_type": "code",
   "execution_count": null,
   "metadata": {
    "collapsed": true
   },
   "outputs": [],
   "source": []
  }
 ],
 "metadata": {
  "kernelspec": {
   "display_name": "Python 2",
   "language": "python",
   "name": "python2"
  },
  "language_info": {
   "codemirror_mode": {
    "name": "ipython",
    "version": 2
   },
   "file_extension": ".py",
   "mimetype": "text/x-python",
   "name": "python",
   "nbconvert_exporter": "python",
   "pygments_lexer": "ipython2",
   "version": "2.7.12"
  }
 },
 "nbformat": 4,
 "nbformat_minor": 2
}

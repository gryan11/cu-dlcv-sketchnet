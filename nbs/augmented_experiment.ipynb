{
 "cells": [
  {
   "cell_type": "code",
   "execution_count": 1,
   "metadata": {},
   "outputs": [
    {
     "name": "stderr",
     "output_type": "stream",
     "text": [
      "Using TensorFlow backend.\n"
     ]
    }
   ],
   "source": [
    "import os\n",
    "import string\n",
    "import h5py\n",
    "\n",
    "import matplotlib.pyplot as plt\n",
    "import time, pickle, pandas\n",
    "\n",
    "import numpy as np\n",
    "\n",
    "import keras\n",
    "from keras.optimizers import rmsprop\n",
    "from keras.preprocessing.image import ImageDataGenerator\n",
    "from keras.models import Sequential, load_model\n",
    "from keras.layers import Convolution2D, MaxPooling2D, ZeroPadding2D\n",
    "from keras.layers import Activation, Dropout, Flatten, Dense\n",
    "from keras.layers import BatchNormalization\n",
    "from keras.callbacks import TensorBoard, ModelCheckpoint\n",
    "from keras import backend\n",
    "from keras import optimizers\n",
    "from keras import backend as K\n",
    "import glob\n",
    "import shutil\n",
    "\n",
    "import scipy.misc as misc\n",
    "import scipy.ndimage as im\n",
    "\n",
    "import tensorflow as tf\n",
    "\n",
    "%matplotlib inline"
   ]
  },
  {
   "cell_type": "code",
   "execution_count": 2,
   "metadata": {},
   "outputs": [
    {
     "name": "stdout",
     "output_type": "stream",
     "text": [
      "Found 309 images belonging to 3 classes.\n",
      "Found 81 images belonging to 3 classes.\n",
      "256 256 1 3\n"
     ]
    }
   ],
   "source": [
    "batch_size = 10\n",
    "\n",
    "data_root = '../data/combined/'\n",
    "train_data_dir = data_root + 'train'\n",
    "validation_data_dir = data_root + 'test'\n",
    "\n",
    "train_datagen = ImageDataGenerator(\n",
    "        shear_range=0.25,\n",
    "        zoom_range=0.25,\n",
    "        rotation_range=35,\n",
    "        horizontal_flip=True)\n",
    "\n",
    "test_datagen = ImageDataGenerator()\n",
    "\n",
    "train_generator = train_datagen.flow_from_directory(\n",
    "        train_data_dir,\n",
    "        batch_size=batch_size,\n",
    "        class_mode='categorical',\n",
    "        color_mode='grayscale')\n",
    "\n",
    "validation_generator = test_datagen.flow_from_directory(\n",
    "        validation_data_dir,\n",
    "        batch_size=batch_size,\n",
    "        class_mode='categorical',\n",
    "        color_mode='grayscale')\n",
    "\n",
    "batch, y = train_generator.next()\n",
    "img_height = batch.shape[1]\n",
    "img_width = batch.shape[2]\n",
    "channels = batch.shape[3]\n",
    "num_classes = len(y[0])\n",
    "print img_height, img_width, channels, num_classes"
   ]
  },
  {
   "cell_type": "code",
   "execution_count": 3,
   "metadata": {},
   "outputs": [
    {
     "name": "stdout",
     "output_type": "stream",
     "text": [
      "_________________________________________________________________\n",
      "Layer (type)                 Output Shape              Param #   \n",
      "=================================================================\n",
      "conv2d_1 (Conv2D)            (None, 256, 256, 64)      640       \n",
      "_________________________________________________________________\n",
      "conv2d_2 (Conv2D)            (None, 256, 256, 64)      36928     \n",
      "_________________________________________________________________\n",
      "max_pooling2d_1 (MaxPooling2 (None, 128, 128, 64)      0         \n",
      "_________________________________________________________________\n",
      "conv2d_3 (Conv2D)            (None, 128, 128, 128)     73856     \n",
      "_________________________________________________________________\n",
      "max_pooling2d_2 (MaxPooling2 (None, 64, 64, 128)       0         \n",
      "_________________________________________________________________\n",
      "dropout_1 (Dropout)          (None, 64, 64, 128)       0         \n",
      "_________________________________________________________________\n",
      "flatten_1 (Flatten)          (None, 524288)            0         \n",
      "_________________________________________________________________\n",
      "dense_1 (Dense)              (None, 512)               268435968 \n",
      "_________________________________________________________________\n",
      "dropout_2 (Dropout)          (None, 512)               0         \n",
      "_________________________________________________________________\n",
      "dense_2 (Dense)              (None, 50)                25650     \n",
      "=================================================================\n",
      "Total params: 268,573,042\n",
      "Trainable params: 268,573,042\n",
      "Non-trainable params: 0\n",
      "_________________________________________________________________\n"
     ]
    }
   ],
   "source": [
    "model = keras.models.load_model('../models/sketchnet4_1/latest.h5')\n",
    "model.summary()"
   ]
  },
  {
   "cell_type": "code",
   "execution_count": 4,
   "metadata": {},
   "outputs": [],
   "source": [
    "# load latest, add more convs\n",
    "for i in xrange(4):\n",
    "    model.pop()\n",
    "    \n",
    "model.add(Convolution2D(256, (3, 3), \n",
    "                        padding='same', \n",
    "                        activation='relu'))\n",
    "model.add(MaxPooling2D(pool_size=(2, 2)))\n",
    "model.add(Dropout(0.3))\n",
    "\n",
    "model.add(Convolution2D(512, (3, 3), \n",
    "                        padding='same', \n",
    "                        activation='relu'))\n",
    "model.add(MaxPooling2D(pool_size=(2, 2)))\n",
    "model.add(Dropout(0.4))\n",
    "\n",
    "model.add(Flatten())\n",
    "model.add(Dense(512, activation='relu'))\n",
    "model.add(Dense(1024, activation='relu'))\n",
    "model.add(Dropout(0.5))\n",
    "model.add(Dense(num_classes, activation='softmax'))\n",
    "\n",
    "for i, layer in enumerate(model.layers):\n",
    "    layer.name = 'layer'+str(i)"
   ]
  },
  {
   "cell_type": "code",
   "execution_count": 5,
   "metadata": {},
   "outputs": [],
   "source": [
    "opt = rmsprop(lr=0.0001)\n",
    "model.compile(loss='categorical_crossentropy',\n",
    "              optimizer=opt,\n",
    "              metrics=['accuracy'])"
   ]
  },
  {
   "cell_type": "code",
   "execution_count": 6,
   "metadata": {},
   "outputs": [],
   "source": [
    "import utils\n",
    "reload(utils)\n",
    "\n",
    "trainer =  utils.ModelTrainer(\n",
    "                 model,\n",
    "                 'augmented1',\n",
    "                 opt,\n",
    "                 train_generator,\n",
    "                 validation_generator,\n",
    "                 train_steps=31,\n",
    "                 val_steps=8)"
   ]
  },
  {
   "cell_type": "code",
   "execution_count": 7,
   "metadata": {},
   "outputs": [
    {
     "name": "stdout",
     "output_type": "stream",
     "text": [
      "Epoch 1/20\n",
      "31/31 [==============================] - 17s - loss: 3.5828 - acc: 0.3136 - val_loss: 1.0438 - val_acc: 0.5375\n",
      "Epoch 2/20\n",
      "31/31 [==============================] - 19s - loss: 1.0747 - acc: 0.4305 - val_loss: 0.9937 - val_acc: 0.4500\n",
      "Epoch 3/20\n",
      "31/31 [==============================] - 23s - loss: 0.9808 - acc: 0.4889 - val_loss: 0.8628 - val_acc: 0.7875\n",
      "Epoch 4/20\n",
      "31/31 [==============================] - 18s - loss: 0.9892 - acc: 0.5079 - val_loss: 0.8998 - val_acc: 0.7750\n",
      "Epoch 5/20\n",
      "31/31 [==============================] - 18s - loss: 0.9323 - acc: 0.5688 - val_loss: 0.8365 - val_acc: 0.6875\n",
      "Epoch 6/20\n",
      "31/31 [==============================] - 18s - loss: 0.9510 - acc: 0.5405 - val_loss: 0.7768 - val_acc: 0.7375\n",
      "Epoch 7/20\n",
      "31/31 [==============================] - 18s - loss: 0.8983 - acc: 0.5437 - val_loss: 0.7622 - val_acc: 0.7875\n",
      "Epoch 8/20\n",
      "31/31 [==============================] - 23s - loss: 0.8715 - acc: 0.5889 - val_loss: 0.6526 - val_acc: 0.8500\n",
      "Epoch 9/20\n",
      "31/31 [==============================] - 18s - loss: 0.8622 - acc: 0.5921 - val_loss: 0.7775 - val_acc: 0.7125\n",
      "Epoch 10/20\n",
      "31/31 [==============================] - 18s - loss: 0.8255 - acc: 0.6054 - val_loss: 0.7133 - val_acc: 0.7750\n",
      "Epoch 11/20\n",
      "31/31 [==============================] - 18s - loss: 0.8358 - acc: 0.6086 - val_loss: 0.7305 - val_acc: 0.7750\n",
      "Epoch 12/20\n",
      "31/31 [==============================] - 23s - loss: 0.8356 - acc: 0.5953 - val_loss: 0.5408 - val_acc: 0.8732\n",
      "Epoch 13/20\n",
      "31/31 [==============================] - 18s - loss: 0.8140 - acc: 0.6061 - val_loss: 0.5233 - val_acc: 0.8028\n",
      "Epoch 14/20\n",
      "31/31 [==============================] - 18s - loss: 0.7876 - acc: 0.6086 - val_loss: 0.5422 - val_acc: 0.8310\n",
      "Epoch 15/20\n",
      "31/31 [==============================] - 23s - loss: 0.8005 - acc: 0.6595 - val_loss: 0.5162 - val_acc: 0.8873\n",
      "Epoch 16/20\n",
      "31/31 [==============================] - 18s - loss: 0.7688 - acc: 0.6760 - val_loss: 0.3874 - val_acc: 0.8873\n",
      "Epoch 17/20\n",
      "31/31 [==============================] - 18s - loss: 0.7951 - acc: 0.6502 - val_loss: 0.4939 - val_acc: 0.8451\n",
      "Epoch 18/20\n",
      "31/31 [==============================] - 18s - loss: 0.7413 - acc: 0.6434 - val_loss: 0.3736 - val_acc: 0.8732\n",
      "Epoch 19/20\n",
      "31/31 [==============================] - 18s - loss: 0.7231 - acc: 0.6541 - val_loss: 0.5184 - val_acc: 0.8169\n",
      "Epoch 20/20\n",
      "31/31 [==============================] - 23s - loss: 0.7597 - acc: 0.6699 - val_loss: 0.3975 - val_acc: 0.9014\n"
     ]
    }
   ],
   "source": [
    "trainer.train(20, 0.0001)"
   ]
  },
  {
   "cell_type": "code",
   "execution_count": null,
   "metadata": {
    "collapsed": true
   },
   "outputs": [],
   "source": []
  }
 ],
 "metadata": {
  "kernelspec": {
   "display_name": "Python 2",
   "language": "python",
   "name": "python2"
  },
  "language_info": {
   "codemirror_mode": {
    "name": "ipython",
    "version": 2
   },
   "file_extension": ".py",
   "mimetype": "text/x-python",
   "name": "python",
   "nbconvert_exporter": "python",
   "pygments_lexer": "ipython2",
   "version": "2.7.12"
  }
 },
 "nbformat": 4,
 "nbformat_minor": 2
}
